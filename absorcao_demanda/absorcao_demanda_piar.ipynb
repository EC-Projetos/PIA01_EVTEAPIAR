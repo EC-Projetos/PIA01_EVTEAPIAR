{
 "cells": [
  {
   "cell_type": "markdown",
   "metadata": {},
   "source": [
    "# Estabelece a absorção de demanda pelos aeroportos mapeados com base na matriz de origem-destino"
   ]
  },
  {
   "cell_type": "code",
   "execution_count": 2,
   "metadata": {},
   "outputs": [],
   "source": [
    "import pandas as pd"
   ]
  },
  {
   "cell_type": "code",
   "execution_count": 3,
   "metadata": {},
   "outputs": [],
   "source": [
    "matriz_od_completa = pd.read_csv('data/csv/matriz_od_completa.csv', delimiter = ',')"
   ]
  },
  {
   "cell_type": "code",
   "execution_count": 4,
   "metadata": {},
   "outputs": [],
   "source": [
    "cat_influencia = pd.read_excel('data/excel/xlsx/cat_influencia_geral.xlsx', engine='openpyxl')"
   ]
  },
  {
   "cell_type": "code",
   "execution_count": 8,
   "metadata": {},
   "outputs": [],
   "source": [
    "cat_absorcao = pd.read_excel('data/excel/xlsx/cat_absorcao_nacional.xlsx', engine='openpyxl')"
   ]
  },
  {
   "cell_type": "code",
   "execution_count": 6,
   "metadata": {},
   "outputs": [],
   "source": [
    "piar_aeroportos = ['SBTE - TERESINA', 'SBPB - PARNAÍBA', 'SWKQ - SÃO RAIMUNDO NONATO','SBFZ - FORTALEZA','SNBR - BARREIRAS','SBSL - SÃO LUÍS','SBBR - BRASÍLIA']"
   ]
  },
  {
   "cell_type": "code",
   "execution_count": 10,
   "metadata": {},
   "outputs": [],
   "source": [
    "def filtrar_aeroportos(df, aeroportos, cat_absorcao):\n",
    "    # Mantém as três primeiras colunas como índice\n",
    "    colunas_indice = df.columns[:3]\n",
    "    \n",
    "    # Filtra as colunas que correspondem ao id_aeroporto na lista 'aeroportos'\n",
    "    df_filtrado = df.loc[:, df.columns.isin(aeroportos) | df.columns.isin(colunas_indice)]\n",
    "    \n",
    "    # Filtra as linhas onde todas as colunas a partir da quarta são iguais a 'M'\n",
    "    colunas_para_verificar = df_filtrado.columns[3:]  # As colunas a partir da quarta\n",
    "    \n",
    "    # Filtra as linhas onde todos os valores dessas colunas são 'M'\n",
    "    df_filtrado = df_filtrado[~df_filtrado[colunas_para_verificar].eq('M').all(axis=1)]\n",
    "    \n",
    "    # Substituir valores categóricos pelas médias equivalentes em cat_absorcao\n",
    "    categoria_para_absorcao = dict(zip(cat_absorcao['categoria'], cat_absorcao['absorcao']))\n",
    "    df_filtrado[colunas_para_verificar] = df_filtrado[colunas_para_verificar].replace(categoria_para_absorcao)\n",
    "    \n",
    "    # Substituir 'M' restantes por 0\n",
    "    df_filtrado[colunas_para_verificar] = df_filtrado[colunas_para_verificar].replace('M', 0)\n",
    "    \n",
    "    # Retorna o novo DataFrame filtrado\n",
    "    return df_filtrado\n",
    "\n",
    "cat_influencia_piar = filtrar_aeroportos(cat_influencia, piar_aeroportos, cat_absorcao)"
   ]
  },
  {
   "cell_type": "code",
   "execution_count": 14,
   "metadata": {},
   "outputs": [],
   "source": [
    "def criar_rotas():\n",
    "    # Dados para cada rota\n",
    "    dados = {\n",
    "        'rota_a_cenario_1': {\n",
    "            'origem': [\n",
    "                'SBPB - PARNAÍBA', 'SBTE - TERESINA', 'SWKQ - SÃO RAIMUNDO NONATO',\n",
    "                'SBBR - BRASÍLIA', 'SWKQ - SÃO RAIMUNDO NONATO', 'SBTE - TERESINA',\n",
    "                'SBPB - PARNAÍBA', 'SBTE - TERESINA', 'SBPB - PARNAÍBA',\n",
    "                'SBBR - BRASÍLIA', 'SBBR - BRASÍLIA', 'SWKQ - SÃO RAIMUNDO NONATO'\n",
    "            ],\n",
    "            'destino': [\n",
    "                'SBTE - TERESINA', 'SWKQ - SÃO RAIMUNDO NONATO', 'SBBR - BRASÍLIA',\n",
    "                'SWKQ - SÃO RAIMUNDO NONATO', 'SBTE - TERESINA', 'SBPB - PARNAÍBA',\n",
    "                'SBBR - BRASÍLIA', 'SBBR - BRASÍLIA', 'SWKQ - SÃO RAIMUNDO NONATO',\n",
    "                'SBPB - PARNAÍBA', 'SBTE - TERESINA', 'SBPB - PARNAÍBA'                \n",
    "            ]\n",
    "        },\n",
    "        'rota_a_cenario_2': {\n",
    "            'origem': [\n",
    "                'SBPB - PARNAÍBA', 'SBTE - TERESINA', 'SNBR - BARREIRAS',\n",
    "                'SBBR - BRASÍLIA', 'SNBR - BARREIRAS', 'SBTE - TERESINA',\n",
    "                'SBPB - PARNAÍBA', 'SBTE - TERESINA', 'SBPB - PARNAÍBA',\n",
    "                'SBBR - BRASÍLIA', 'SBBR - BRASÍLIA', 'SNBR - BARREIRAS'\n",
    "            ],\n",
    "            'destino': [\n",
    "                'SBTE - TERESINA', 'SNBR - BARREIRAS', 'SBBR - BRASÍLIA',\n",
    "                'SNBR - BARREIRAS', 'SBTE - TERESINA', 'SBPB - PARNAÍBA',\n",
    "                'SBBR - BRASÍLIA', 'SBBR - BRASÍLIA', 'SNBR - BARREIRAS',\n",
    "                'SBPB - PARNAÍBA', 'SBTE - TERESINA', 'SBPB - PARNAÍBA'  \n",
    "            ]\n",
    "        },\n",
    "        'rota_b_cenario_1': {\n",
    "            'origem': [\n",
    "                'SBPB - PARNAÍBA', 'SBSL - SÃO LUÍS', 'SBTE - TERESINA',\n",
    "                'SBFZ - FORTALEZA', 'SBTE - TERESINA', 'SBSL - SÃO LUÍS',\n",
    "                'SBPB - PARNAÍBA', 'SBSL - SÃO LUÍS', 'SBTE - TERESINA',\n",
    "                'SBFZ - FORTALEZA'\n",
    "            ],\n",
    "            'destino': [\n",
    "                'SBSL - SÃO LUÍS', 'SBTE - TERESINA', 'SBFZ - FORTALEZA',\n",
    "                'SBTE - TERESINA', 'SBSL - SÃO LUÍS', 'SBPB - PARNAÍBA',\n",
    "                'SBTE - TERESINA', 'SBFZ - FORTALEZA', 'SBPB - PARNAÍBA',\n",
    "                'SBSL - SÃO LUÍS'\n",
    "            ]\n",
    "        },\n",
    "        'rota_b_cenario_2': {\n",
    "            'origem': [\n",
    "                'SBPB - PARNAÍBA', 'SBFZ - FORTALEZA', 'SBTE - TERESINA',\n",
    "                'SBSL - SÃO LUÍS', 'SBTE - TERESINA', 'SBFZ - FORTALEZA',\n",
    "                'SBPB - PARNAÍBA', 'SBSL - SÃO LUÍS', 'SBTE - TERESINA',\n",
    "                'SBFZ - FORTALEZA'\n",
    "            ],\n",
    "            'destino': [\n",
    "                'SBFZ - FORTALEZA', 'SBTE - TERESINA', 'SBSL - SÃO LUÍS',\n",
    "                'SBTE - TERESINA', 'SBFZ - FORTALEZA', 'SBPB - PARNAÍBA',\n",
    "                'SBTE - TERESINA', 'SBFZ - FORTALEZA', 'SBPB - PARNAÍBA',\n",
    "                'SBSL - SÃO LUÍS'\n",
    "            ]\n",
    "        }\n",
    "    }\n",
    "\n",
    "    # Criar os DataFrames a partir dos dados\n",
    "    rotas = {nome: pd.DataFrame(dados_rotas) for nome, dados_rotas in dados.items()}\n",
    "    \n",
    "    return rotas\n",
    "\n",
    "rotas = criar_rotas()\n",
    "rota_a_cenario_1 = rotas['rota_a_cenario_1']\n",
    "rota_a_cenario_2 = rotas['rota_a_cenario_2']\n",
    "rota_b_cenario_1 = rotas['rota_b_cenario_1']\n",
    "rota_b_cenario_2 = rotas['rota_b_cenario_2']"
   ]
  },
  {
   "cell_type": "code",
   "execution_count": null,
   "metadata": {},
   "outputs": [],
   "source": []
  },
  {
   "cell_type": "markdown",
   "metadata": {},
   "source": []
  }
 ],
 "metadata": {
  "kernelspec": {
   "display_name": "base",
   "language": "python",
   "name": "python3"
  },
  "language_info": {
   "codemirror_mode": {
    "name": "ipython",
    "version": 3
   },
   "file_extension": ".py",
   "mimetype": "text/x-python",
   "name": "python",
   "nbconvert_exporter": "python",
   "pygments_lexer": "ipython3",
   "version": "3.11.7"
  }
 },
 "nbformat": 4,
 "nbformat_minor": 2
}
