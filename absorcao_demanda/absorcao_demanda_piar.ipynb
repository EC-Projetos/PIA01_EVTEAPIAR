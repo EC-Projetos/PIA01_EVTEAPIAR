{
 "cells": [
  {
   "cell_type": "markdown",
   "metadata": {},
   "source": [
    "# Estabelece a absorção de demanda pelos aeroportos mapeados com base na matriz de origem-destino"
   ]
  },
  {
   "cell_type": "code",
   "execution_count": 30,
   "metadata": {},
   "outputs": [],
   "source": [
    "import pandas as pd\n",
    "import geopandas as gpd"
   ]
  },
  {
   "cell_type": "code",
   "execution_count": 2,
   "metadata": {},
   "outputs": [],
   "source": [
    "matriz_od_completa = pd.read_csv('data/csv/matriz_od_completa.csv', delimiter = ',')"
   ]
  },
  {
   "cell_type": "code",
   "execution_count": 3,
   "metadata": {},
   "outputs": [],
   "source": [
    "cat_influencia = pd.read_excel('data/excel/xlsx/cat_influencia_geral.xlsx', engine='openpyxl')"
   ]
  },
  {
   "cell_type": "code",
   "execution_count": 14,
   "metadata": {},
   "outputs": [],
   "source": [
    "id_aeroporto = pd.read_excel('data/excel/xlsx/id_aeroporto_v2.xlsx', engine='openpyxl')"
   ]
  },
  {
   "cell_type": "code",
   "execution_count": 4,
   "metadata": {},
   "outputs": [],
   "source": [
    "cat_absorcao = pd.read_excel('data/excel/xlsx/cat_absorcao_nacional.xlsx', engine='openpyxl')"
   ]
  },
  {
   "cell_type": "code",
   "execution_count": 45,
   "metadata": {},
   "outputs": [],
   "source": [
    "municipios_geo = gpd.read_file('data/shapefile/centroide/municipios_centroide.shp')"
   ]
  },
  {
   "cell_type": "code",
   "execution_count": 47,
   "metadata": {},
   "outputs": [],
   "source": [
    "def converter_geodf_para_df(gdf):\n",
    "    df = gdf[['CD_MUN', 'geometry']].copy()\n",
    "    df.rename(columns={'CD_MUN': 'cod_mun'}, inplace=True)\n",
    "    df['coord'] = df['geometry'].apply(lambda point: f\"[{point.y},{point.x}]\")\n",
    "    return df[['cod_mun', 'coord']]\n",
    "\n",
    "# Aplicando a função para converter o GeoDataFrame municipios\n",
    "municipios = converter_geodf_para_df(municipios_geo)"
   ]
  },
  {
   "cell_type": "code",
   "execution_count": 5,
   "metadata": {},
   "outputs": [],
   "source": [
    "piar_aeroportos = ['SBTE - TERESINA', 'SBPB - PARNAÍBA', 'SWKQ - SÃO RAIMUNDO NONATO','SBFZ - FORTALEZA','SNBR - BARREIRAS','SBSL - SÃO LUÍS','SBBR - BRASÍLIA']"
   ]
  },
  {
   "cell_type": "code",
   "execution_count": 217,
   "metadata": {},
   "outputs": [],
   "source": [
    "def filtrar_aeroportos_por_id(df, ids_validos):\n",
    "    df_filtrado = df[df['ID_AEROPORTO'].isin(ids_validos)].copy()\n",
    "    df_filtrado['coord'] = df_filtrado.apply(lambda x: f\"[{x['LATITUDE']},{x['LONGITUDE']}]\", axis=1)\n",
    "    df_filtrado = df_filtrado.rename(columns={'ID_AEROPORTO': 'id_aeroporto', 'PASSAGEIROS_ULTIMO_ANO': 'passageiros_ano'})\n",
    "    return df_filtrado[['id_aeroporto', 'coord', 'passageiros_ano']]\n",
    "\n",
    "# Aplicando o filtro para criar o DataFrame id_aeroporto_piar\n",
    "id_aeroporto_piar = filtrar_aeroportos_por_id(id_aeroporto, piar_aeroportos)"
   ]
  },
  {
   "cell_type": "code",
   "execution_count": 6,
   "metadata": {},
   "outputs": [],
   "source": [
    "def filtrar_aeroportos(df, aeroportos, cat_absorcao):\n",
    "    # Mantém as três primeiras colunas como índice\n",
    "    colunas_indice = df.columns[:3]\n",
    "    \n",
    "    # Filtra as colunas que correspondem ao id_aeroporto na lista 'aeroportos'\n",
    "    df_filtrado = df.loc[:, df.columns.isin(aeroportos) | df.columns.isin(colunas_indice)]\n",
    "    \n",
    "    # Filtra as linhas onde todas as colunas a partir da quarta são iguais a 'M'\n",
    "    colunas_para_verificar = df_filtrado.columns[3:]  # As colunas a partir da quarta\n",
    "    \n",
    "    # Filtra as linhas onde todos os valores dessas colunas são 'M'\n",
    "    df_filtrado = df_filtrado[~df_filtrado[colunas_para_verificar].eq('M').all(axis=1)]\n",
    "    \n",
    "    # Substituir valores categóricos pelas médias equivalentes em cat_absorcao\n",
    "    categoria_para_absorcao = dict(zip(cat_absorcao['categoria'], cat_absorcao['absorcao']))\n",
    "    df_filtrado[colunas_para_verificar] = df_filtrado[colunas_para_verificar].replace(categoria_para_absorcao)\n",
    "    \n",
    "    # Substituir 'M' restantes por 0\n",
    "    df_filtrado[colunas_para_verificar] = df_filtrado[colunas_para_verificar].replace('M', 0)\n",
    "    \n",
    "    # Retorna o novo DataFrame filtrado\n",
    "    return df_filtrado\n",
    "\n",
    "cat_influencia_piar = filtrar_aeroportos(cat_influencia, piar_aeroportos, cat_absorcao)"
   ]
  },
  {
   "cell_type": "code",
   "execution_count": 7,
   "metadata": {},
   "outputs": [],
   "source": [
    "\n",
    "def criar_rotas_combinadas():\n",
    "    # Dados para cada rota\n",
    "    dados = {\n",
    "        'rota_a_cenario_1': {\n",
    "            'rota': 'A',\n",
    "            'cenario': '1',\n",
    "            'aero_origem': [\n",
    "                'SBPB - PARNAÍBA', 'SBTE - TERESINA', 'SWKQ - SÃO RAIMUNDO NONATO',\n",
    "                'SBBR - BRASÍLIA', 'SWKQ - SÃO RAIMUNDO NONATO', 'SBTE - TERESINA',\n",
    "                'SBPB - PARNAÍBA', 'SBTE - TERESINA', 'SBPB - PARNAÍBA',\n",
    "                'SBBR - BRASÍLIA', 'SBBR - BRASÍLIA', 'SWKQ - SÃO RAIMUNDO NONATO'\n",
    "            ],\n",
    "            'aero_destino': [\n",
    "                'SBTE - TERESINA', 'SWKQ - SÃO RAIMUNDO NONATO', 'SBBR - BRASÍLIA',\n",
    "                'SWKQ - SÃO RAIMUNDO NONATO', 'SBTE - TERESINA', 'SBPB - PARNAÍBA',\n",
    "                'SBBR - BRASÍLIA', 'SBBR - BRASÍLIA', 'SWKQ - SÃO RAIMUNDO NONATO',\n",
    "                'SBPB - PARNAÍBA', 'SBTE - TERESINA', 'SBPB - PARNAÍBA'\n",
    "            ]\n",
    "        },\n",
    "        'rota_a_cenario_2': {\n",
    "            'rota': 'A',\n",
    "            'cenario': '2',\n",
    "            'aero_origem': [\n",
    "                'SBPB - PARNAÍBA', 'SBTE - TERESINA', 'SNBR - BARREIRAS',\n",
    "                'SBBR - BRASÍLIA', 'SNBR - BARREIRAS', 'SBTE - TERESINA',\n",
    "                'SBPB - PARNAÍBA', 'SBTE - TERESINA', 'SBPB - PARNAÍBA',\n",
    "                'SBBR - BRASÍLIA', 'SBBR - BRASÍLIA', 'SNBR - BARREIRAS'\n",
    "            ],\n",
    "            'aero_destino': [\n",
    "                'SBTE - TERESINA', 'SNBR - BARREIRAS', 'SBBR - BRASÍLIA',\n",
    "                'SNBR - BARREIRAS', 'SBTE - TERESINA', 'SBPB - PARNAÍBA',\n",
    "                'SBBR - BRASÍLIA', 'SBBR - BRASÍLIA', 'SNBR - BARREIRAS',\n",
    "                'SBPB - PARNAÍBA', 'SBTE - TERESINA', 'SBPB - PARNAÍBA'\n",
    "            ]\n",
    "        },\n",
    "        'rota_b_cenario_1': {\n",
    "            'rota': 'B',\n",
    "            'cenario': '1',\n",
    "            'aero_origem': [\n",
    "                'SBPB - PARNAÍBA', 'SBSL - SÃO LUÍS', 'SBTE - TERESINA',\n",
    "                'SBFZ - FORTALEZA', 'SBTE - TERESINA', 'SBSL - SÃO LUÍS',\n",
    "                'SBPB - PARNAÍBA', 'SBSL - SÃO LUÍS', 'SBTE - TERESINA',\n",
    "                'SBFZ - FORTALEZA'\n",
    "            ],\n",
    "            'aero_destino': [\n",
    "                'SBSL - SÃO LUÍS', 'SBTE - TERESINA', 'SBFZ - FORTALEZA',\n",
    "                'SBTE - TERESINA', 'SBSL - SÃO LUÍS', 'SBPB - PARNAÍBA',\n",
    "                'SBTE - TERESINA', 'SBFZ - FORTALEZA', 'SBPB - PARNAÍBA',\n",
    "                'SBSL - SÃO LUÍS'\n",
    "            ]\n",
    "        },\n",
    "        'rota_b_cenario_2': {\n",
    "            'rota': 'B',\n",
    "            'cenario': '2' ,\n",
    "            'aero_origem': [\n",
    "                'SBPB - PARNAÍBA', 'SBFZ - FORTALEZA', 'SBTE - TERESINA',\n",
    "                'SBSL - SÃO LUÍS', 'SBTE - TERESINA', 'SBFZ - FORTALEZA',\n",
    "                'SBPB - PARNAÍBA', 'SBSL - SÃO LUÍS', 'SBTE - TERESINA',\n",
    "                'SBFZ - FORTALEZA'\n",
    "            ],\n",
    "            'aero_destino': [\n",
    "                'SBFZ - FORTALEZA', 'SBTE - TERESINA', 'SBSL - SÃO LUÍS',\n",
    "                'SBTE - TERESINA', 'SBFZ - FORTALEZA', 'SBPB - PARNAÍBA',\n",
    "                'SBTE - TERESINA', 'SBFZ - FORTALEZA', 'SBPB - PARNAÍBA',\n",
    "                'SBSL - SÃO LUÍS'\n",
    "            ]\n",
    "        }\n",
    "    }\n",
    "\n",
    "    # Criar os DataFrames e adicionar as colunas 'rota' e 'cenario'\n",
    "    rotas = []\n",
    "    for nome, dados_rotas in dados.items():\n",
    "        df = pd.DataFrame(dados_rotas)\n",
    "        rotas.append(df)\n",
    "    \n",
    "    # Concatenar todos os DataFrames em um único DataFrame\n",
    "    rotas_combinadas = pd.concat(rotas, ignore_index=True)\n",
    "    \n",
    "    return rotas_combinadas\n",
    "\n",
    "# Criar o DataFrame combinado\n",
    "rotas_combinadas = criar_rotas_combinadas()"
   ]
  },
  {
   "cell_type": "code",
   "execution_count": 8,
   "metadata": {},
   "outputs": [],
   "source": [
    "# Criando o DataFrame 'matriz_od_piar' com o filtro\n",
    "def filtrar_matriz_od(matriz_od_completa, cat_influencia_piar):\n",
    "    # Lista de municípios de influência\n",
    "    municipios_influencia = cat_influencia_piar['CD_MUN']\n",
    "    \n",
    "    # Aplicando o filtro\n",
    "    matriz_od_piar = matriz_od_completa[\n",
    "        (matriz_od_completa['mun_origem'].isin(municipios_influencia)) &\n",
    "        (matriz_od_completa['mun_destino'].isin(municipios_influencia))\n",
    "    ]\n",
    "\n",
    "    # Colunas a serem removidas\n",
    "    colunas_remover = [\n",
    "        'pib_origem', 'pib_destino', 'turismo_origem', 'turismo_destino',\n",
    "        'pib_per_capita_origem', 'pib_per_capita_destino', 'classe_distancia',\n",
    "        'classe_pop_origem', 'classe_pop_destino'\n",
    "    ]\n",
    "    \n",
    "    # Removendo as colunas especificadas\n",
    "    matriz_od_piar = matriz_od_piar.drop(columns=colunas_remover, errors='ignore')\n",
    "    \n",
    "    return matriz_od_piar\n",
    "\n",
    "matriz_od_piar = filtrar_matriz_od(matriz_od_completa, cat_influencia_piar)"
   ]
  },
  {
   "cell_type": "code",
   "execution_count": 9,
   "metadata": {},
   "outputs": [],
   "source": [
    "def adicionar_qtde_mun(rotas_combinadas, cat_influencia_piar):\n",
    "    # Função para contar os valores > 0 em uma coluna correspondente a um aeroporto\n",
    "    def contar_mun(aeroporto, matriz_influencia):\n",
    "        # Procurar a correspondência no cabeçalho (nomes das colunas)\n",
    "        if aeroporto in matriz_influencia.columns:\n",
    "            # Contar quantas linhas têm valor maior que 0 na coluna correspondente\n",
    "            return (matriz_influencia[aeroporto] > 0).sum()\n",
    "        else:\n",
    "            return 0\n",
    "\n",
    "    # Adicionar a coluna qtde_mun_origem\n",
    "    rotas_combinadas['qtde_mun_origem'] = rotas_combinadas['aero_origem'].apply(\n",
    "        lambda x: contar_mun(x, cat_influencia_piar)\n",
    "    )\n",
    "    \n",
    "    # Adicionar a coluna qtde_mun_destino\n",
    "    rotas_combinadas['qtde_mun_destino'] = rotas_combinadas['aero_destino'].apply(\n",
    "        lambda x: contar_mun(x, cat_influencia_piar)\n",
    "    )\n",
    "    \n",
    "    return rotas_combinadas\n",
    "\n",
    "# Atualizando o DataFrame rotas_combinadas com as novas colunas\n",
    "rotas_combinadas = adicionar_qtde_mun(rotas_combinadas, cat_influencia_piar)"
   ]
  },
  {
   "cell_type": "code",
   "execution_count": 53,
   "metadata": {},
   "outputs": [
    {
     "name": "stdout",
     "output_type": "stream",
     "text": [
      "Par de aeroportos (SBPB - PARNAÍBA, SBTE - TERESINA) completado.\n",
      "Par de aeroportos (SBTE - TERESINA, SWKQ - SÃO RAIMUNDO NONATO) completado.\n",
      "Par de aeroportos (SWKQ - SÃO RAIMUNDO NONATO, SBBR - BRASÍLIA) completado.\n",
      "Par de aeroportos (SBBR - BRASÍLIA, SWKQ - SÃO RAIMUNDO NONATO) completado.\n",
      "Par de aeroportos (SWKQ - SÃO RAIMUNDO NONATO, SBTE - TERESINA) completado.\n",
      "Par de aeroportos (SBTE - TERESINA, SBPB - PARNAÍBA) completado.\n",
      "Par de aeroportos (SBPB - PARNAÍBA, SBBR - BRASÍLIA) completado.\n",
      "Par de aeroportos (SBTE - TERESINA, SBBR - BRASÍLIA) completado.\n",
      "Par de aeroportos (SBPB - PARNAÍBA, SWKQ - SÃO RAIMUNDO NONATO) completado.\n",
      "Par de aeroportos (SBBR - BRASÍLIA, SBPB - PARNAÍBA) completado.\n",
      "Par de aeroportos (SBBR - BRASÍLIA, SBTE - TERESINA) completado.\n",
      "Par de aeroportos (SWKQ - SÃO RAIMUNDO NONATO, SBPB - PARNAÍBA) completado.\n",
      "Par de aeroportos (SBPB - PARNAÍBA, SBTE - TERESINA) completado.\n",
      "Par de aeroportos (SBTE - TERESINA, SNBR - BARREIRAS) completado.\n",
      "Par de aeroportos (SNBR - BARREIRAS, SBBR - BRASÍLIA) completado.\n",
      "Par de aeroportos (SBBR - BRASÍLIA, SNBR - BARREIRAS) completado.\n",
      "Par de aeroportos (SNBR - BARREIRAS, SBTE - TERESINA) completado.\n",
      "Par de aeroportos (SBTE - TERESINA, SBPB - PARNAÍBA) completado.\n",
      "Par de aeroportos (SBPB - PARNAÍBA, SBBR - BRASÍLIA) completado.\n",
      "Par de aeroportos (SBTE - TERESINA, SBBR - BRASÍLIA) completado.\n",
      "Par de aeroportos (SBPB - PARNAÍBA, SNBR - BARREIRAS) completado.\n",
      "Par de aeroportos (SBBR - BRASÍLIA, SBPB - PARNAÍBA) completado.\n",
      "Par de aeroportos (SBBR - BRASÍLIA, SBTE - TERESINA) completado.\n",
      "Par de aeroportos (SNBR - BARREIRAS, SBPB - PARNAÍBA) completado.\n",
      "Par de aeroportos (SBPB - PARNAÍBA, SBSL - SÃO LUÍS) completado.\n",
      "Par de aeroportos (SBSL - SÃO LUÍS, SBTE - TERESINA) completado.\n",
      "Par de aeroportos (SBTE - TERESINA, SBFZ - FORTALEZA) completado.\n",
      "Par de aeroportos (SBFZ - FORTALEZA, SBTE - TERESINA) completado.\n",
      "Par de aeroportos (SBTE - TERESINA, SBSL - SÃO LUÍS) completado.\n",
      "Par de aeroportos (SBSL - SÃO LUÍS, SBPB - PARNAÍBA) completado.\n",
      "Par de aeroportos (SBPB - PARNAÍBA, SBTE - TERESINA) completado.\n",
      "Par de aeroportos (SBSL - SÃO LUÍS, SBFZ - FORTALEZA) completado.\n",
      "Par de aeroportos (SBTE - TERESINA, SBPB - PARNAÍBA) completado.\n",
      "Par de aeroportos (SBFZ - FORTALEZA, SBSL - SÃO LUÍS) completado.\n",
      "Par de aeroportos (SBPB - PARNAÍBA, SBFZ - FORTALEZA) completado.\n",
      "Par de aeroportos (SBFZ - FORTALEZA, SBTE - TERESINA) completado.\n",
      "Par de aeroportos (SBTE - TERESINA, SBSL - SÃO LUÍS) completado.\n",
      "Par de aeroportos (SBSL - SÃO LUÍS, SBTE - TERESINA) completado.\n",
      "Par de aeroportos (SBTE - TERESINA, SBFZ - FORTALEZA) completado.\n",
      "Par de aeroportos (SBFZ - FORTALEZA, SBPB - PARNAÍBA) completado.\n",
      "Par de aeroportos (SBPB - PARNAÍBA, SBTE - TERESINA) completado.\n",
      "Par de aeroportos (SBSL - SÃO LUÍS, SBFZ - FORTALEZA) completado.\n",
      "Par de aeroportos (SBTE - TERESINA, SBPB - PARNAÍBA) completado.\n",
      "Par de aeroportos (SBFZ - FORTALEZA, SBSL - SÃO LUÍS) completado.\n"
     ]
    }
   ],
   "source": [
    "def expandir_rotas_combinadas(rotas_combinadas, cat_influencia_piar):\n",
    "    # Lista para armazenar as linhas expandidas\n",
    "    linhas_expandidas = []\n",
    "\n",
    "    for index, row in rotas_combinadas.iterrows():\n",
    "        # Identificar coluna no cabeçalho para 'aero_origem' e 'aero_destino'\n",
    "        col_origem = row['aero_origem']\n",
    "        col_destino = row['aero_destino']\n",
    "\n",
    "        if col_origem in cat_influencia_piar.columns and col_destino in cat_influencia_piar.columns:\n",
    "            # Criar data frames temporários para valores maiores que 0\n",
    "            temp_origem = cat_influencia_piar[cat_influencia_piar[col_origem] > 0][['CD_MUN', col_origem]]\n",
    "            temp_destino = cat_influencia_piar[cat_influencia_piar[col_destino] > 0][['CD_MUN', col_destino]]\n",
    "\n",
    "            # Criar combinações entre os pares de municípios, excluindo combinações iguais\n",
    "            for _, origem_row in temp_origem.iterrows():\n",
    "                for _, destino_row in temp_destino.iterrows():\n",
    "                    if origem_row['CD_MUN'] != destino_row['CD_MUN']:\n",
    "                        linhas_expandidas.append({\n",
    "                            'rota': row['rota'],\n",
    "                            'cenario': row['cenario'],\n",
    "                            'aero_origem': row['aero_origem'],\n",
    "                            'aero_destino': row['aero_destino'],\n",
    "                            'mun_origem': origem_row['CD_MUN'],\n",
    "                            'mun_destino': destino_row['CD_MUN'],\n",
    "                            'absorcao_origem': origem_row[col_origem],\n",
    "                            'absorcao_destino': destino_row[col_destino]\n",
    "                        })\n",
    "        \n",
    "        print(f\"Par de aeroportos ({row['aero_origem']}, {row['aero_destino']}) completado.\")\n",
    "\n",
    "    # Criar DataFrame a partir das linhas expandidas\n",
    "    rotas_expandidas = pd.DataFrame(linhas_expandidas)\n",
    "    return rotas_expandidas\n",
    "\n",
    "# Expandindo o DataFrame rotas_combinadas\n",
    "rotas_expandidas = expandir_rotas_combinadas(rotas_combinadas, cat_influencia_piar)"
   ]
  },
  {
   "cell_type": "code",
   "execution_count": 146,
   "metadata": {},
   "outputs": [],
   "source": [
    "def adicionar_dados_matriz_od(rotas_expandidas, matriz_od_piar):\n",
    "    # Renomeando a coluna 'distancia' em matriz_od_piar para 'distancia_mun'\n",
    "    matriz_od_piar_renomeada = matriz_od_piar.rename(columns={'distancia': 'distancia_mun_mun'})\n",
    "    \n",
    "    # Fazendo o merge com base em mun_origem e mun_destino\n",
    "    rotas_atualizadas = pd.merge(\n",
    "        rotas_expandidas,\n",
    "        matriz_od_piar_renomeada[['mun_origem', 'mun_destino', 'distancia_mun_mun', 'demanda_total_previsto',\n",
    "                                  'share_aero_previsto', 'demanda_aerea_previsto']],\n",
    "        on=['mun_origem', 'mun_destino'],\n",
    "        how='left'\n",
    "    )\n",
    "    \n",
    "    return rotas_atualizadas\n",
    "\n",
    "# Atualizando o DataFrame rotas_expandidas com os dados de matriz_od_piar\n",
    "matriz_od_piar_revisado = adicionar_dados_matriz_od(rotas_expandidas, matriz_od_piar)"
   ]
  },
  {
   "cell_type": "code",
   "execution_count": 147,
   "metadata": {},
   "outputs": [
    {
     "data": {
      "image/png": "[encoded data removed]",
      "text/plain": [
       "<Figure size 800x600 with 1 Axes>"
      ]
     },
     "metadata": {},
     "output_type": "display_data"
    }
   ],
   "source": [
    "import matplotlib.pyplot as plt\n",
    "\n",
    "# Definição dos valores globais\n",
    "INICIO = 0\n",
    "FIM = 200\n",
    "PASSO = 1\n",
    "\n",
    "def gerar_grafico_percentual_demanda_proximidade(matriz_od):\n",
    "    # Definição da função para calcular o percentual\n",
    "    def calcular_percentual_demanda(matriz_od, limite_distancia):\n",
    "        demanda_total = matriz_od['demanda_aerea_previsto'].sum()\n",
    "        demanda_filtrada = matriz_od[matriz_od['distancia_mun_mun'] <= limite_distancia]['demanda_aerea_previsto'].sum()\n",
    "        percentual = (demanda_filtrada / demanda_total) * 100 if demanda_total > 0 else 0\n",
    "        return percentual\n",
    "\n",
    "    # Intervalos de limite de distância\n",
    "    limites_distancia = range(INICIO, FIM + 1, PASSO)\n",
    "\n",
    "    # Calculando percentuais para cada limite de distância\n",
    "    percentuais_demanda = [calcular_percentual_demanda(matriz_od, limite) for limite in limites_distancia]\n",
    "\n",
    "    # Plotando o gráfico\n",
    "    plt.figure(figsize=(8, 6))\n",
    "    plt.plot(limites_distancia, percentuais_demanda, marker='o', linestyle='-')\n",
    "    plt.title('Percentual de Demanda Aérea por Limite de Distância')\n",
    "    plt.xlabel('Limite de Distância (km)')\n",
    "    plt.ylabel('Percentual de Demanda (%)')\n",
    "    plt.grid()\n",
    "\n",
    "    # Exibir o gráfico\n",
    "    plt.show()\n",
    "\n",
    "# Chamada da função\n",
    "gerar_grafico_percentual_demanda_proximidade(matriz_od_piar_revisado)"
   ]
  },
  {
   "cell_type": "code",
   "execution_count": 148,
   "metadata": {},
   "outputs": [],
   "source": [
    "def filtrar_por_distancia(dataframe):\n",
    "    # Filtrando o DataFrame\n",
    "    dataframe_filtrado = dataframe[dataframe['distancia_mun_mun'] > 200]\n",
    "        \n",
    "    return dataframe_filtrado\n",
    "\n",
    "# Exemplo de uso\n",
    "matriz_od_piar_revisado = filtrar_por_distancia(matriz_od_piar_revisado)"
   ]
  },
  {
   "cell_type": "code",
   "execution_count": 149,
   "metadata": {},
   "outputs": [],
   "source": [
    "def adicionar_coordenadas(rotas_df, aeroportos_df, municipios_df):\n",
    "    # Garantindo que os códigos sejam numéricos sem decimais\n",
    "    rotas_df['mun_origem'] = pd.to_numeric(rotas_df['mun_origem'], errors='coerce').astype('Int64')\n",
    "    rotas_df['mun_destino'] = pd.to_numeric(rotas_df['mun_destino'], errors='coerce').astype('Int64')\n",
    "    municipios_df['cod_mun'] = pd.to_numeric(municipios_df['cod_mun'], errors='coerce').astype('Int64')\n",
    "    \n",
    "    # Mapeando coordenadas de aeroportos\n",
    "    coord_aero_origem = rotas_df['aero_origem'].map(\n",
    "        dict(zip(aeroportos_df['id_aeroporto'], aeroportos_df['coord']))\n",
    "    )\n",
    "    coord_aero_destino = rotas_df['aero_destino'].map(\n",
    "        dict(zip(aeroportos_df['id_aeroporto'], aeroportos_df['coord']))\n",
    "    )\n",
    "\n",
    "    # Mapeando coordenadas de municípios\n",
    "    coord_mun_origem = rotas_df['mun_origem'].map(\n",
    "        dict(zip(municipios_df['cod_mun'], municipios_df['coord']))\n",
    "    )\n",
    "    coord_mun_destino = rotas_df['mun_destino'].map(\n",
    "        dict(zip(municipios_df['cod_mun'], municipios_df['coord']))\n",
    "    )\n",
    "\n",
    "    # Concatenando as novas colunas ao DataFrame original\n",
    "    rotas_com_coords = pd.concat(\n",
    "        [\n",
    "            rotas_df,\n",
    "            coord_aero_origem.rename('coord_aero_origem'),\n",
    "            coord_aero_destino.rename('coord_aero_destino'),\n",
    "            coord_mun_origem.rename('coord_mun_origem'),\n",
    "            coord_mun_destino.rename('coord_mun_destino'),\n",
    "        ],\n",
    "        axis=1\n",
    "    )\n",
    "\n",
    "    return rotas_com_coords\n",
    "# Aplicando a função para adicionar coordenadas\n",
    "matriz_od_piar_revisado = adicionar_coordenadas(matriz_od_piar_revisado, id_aeroporto_piar, municipios)"
   ]
  },
  {
   "cell_type": "code",
   "execution_count": 150,
   "metadata": {},
   "outputs": [
    {
     "name": "stderr",
     "output_type": "stream",
     "text": [
      "Calculando distâncias de origem: 100%|██████████| 3159428/3159428 [00:29<00:00, 106449.74it/s]\n",
      "Calculando distâncias de destino: 100%|██████████| 3159428/3159428 [00:32<00:00, 97764.86it/s] \n"
     ]
    }
   ],
   "source": [
    "import numpy as np\n",
    "from tqdm import tqdm\n",
    "\n",
    "def haversine(lat1, lon1, lat2, lon2):\n",
    "    R = 6371  # Raio médio da Terra em quilômetros\n",
    "    lat1, lon1, lat2, lon2 = map(np.radians, [lat1, lon1, lat2, lon2])\n",
    "    dlat = lat2 - lat1\n",
    "    dlon = lon2 - lon1\n",
    "    a = np.sin(dlat / 2)**2 + np.cos(lat1) * np.cos(lat2) * np.sin(dlon / 2)**2\n",
    "    c = 2 * np.arctan2(np.sqrt(a), np.sqrt(1 - a))\n",
    "    return R * c\n",
    "\n",
    "def adicionar_distancias_com_progresso(rotas_df):\n",
    "    def extrair_coords(coord_str):\n",
    "        lat, lon = map(float, coord_str.strip('[]').split(','))\n",
    "        return lat, lon\n",
    "\n",
    "    # Calculando distancia_mun_aero_origem com progresso\n",
    "    origem_coords = rotas_df['coord_mun_origem'].apply(extrair_coords)\n",
    "    destino_coords = rotas_df['coord_aero_origem'].apply(extrair_coords)\n",
    "    dist_origem = []\n",
    "    for i, ((lat1, lon1), (lat2, lon2)) in enumerate(\n",
    "            tqdm(zip(origem_coords, destino_coords), total=len(rotas_df), desc=\"Calculando distâncias de origem\")):\n",
    "        dist_origem.append(haversine(lat1, lon1, lat2, lon2))\n",
    "    rotas_df['distancia_mun_aero_origem'] = dist_origem\n",
    "\n",
    "    # Calculando distancia_mun_aero_destino com progresso\n",
    "    origem_coords = rotas_df['coord_mun_destino'].apply(extrair_coords)\n",
    "    destino_coords = rotas_df['coord_aero_destino'].apply(extrair_coords)\n",
    "    dist_destino = []\n",
    "    for i, ((lat1, lon1), (lat2, lon2)) in enumerate(\n",
    "            tqdm(zip(origem_coords, destino_coords), total=len(rotas_df), desc=\"Calculando distâncias de destino\")):\n",
    "        dist_destino.append(haversine(lat1, lon1, lat2, lon2))\n",
    "    rotas_df['distancia_mun_aero_destino'] = dist_destino\n",
    "\n",
    "    return rotas_df\n",
    "\n",
    "# Aplicando a função para adicionar distâncias com marcador de progresso\n",
    "matriz_od_piar_revisado = adicionar_distancias_com_progresso(matriz_od_piar_revisado)"
   ]
  },
  {
   "cell_type": "code",
   "execution_count": 151,
   "metadata": {},
   "outputs": [],
   "source": [
    "matriz_od_piar_revisado = matriz_od_piar_revisado.drop(\n",
    "    columns=['coord_aero_origem', 'coord_aero_destino', 'coord_mun_origem', 'coord_mun_destino']\n",
    ")"
   ]
  },
  {
   "cell_type": "code",
   "execution_count": 152,
   "metadata": {},
   "outputs": [
    {
     "data": {
      "image/png": "[encoded data removed]",
      "text/plain": [
       "<Figure size 1000x600 with 1 Axes>"
      ]
     },
     "metadata": {},
     "output_type": "display_data"
    }
   ],
   "source": [
    "# Definição dos valores globais\n",
    "INICIO = -100\n",
    "FIM = 300\n",
    "PASSO = 1\n",
    "\n",
    "def gerar_grafico_percentual_demanda_diferenca(matriz_od):\n",
    "    # Definição da função para calcular o percentual\n",
    "    def calcular_percentual_demanda(matriz_od, limite_diferenca):\n",
    "        demanda_total = matriz_od['demanda_aerea_previsto'].sum()\n",
    "        demanda_filtrada = matriz_od[\n",
    "            (matriz_od['distancia_mun_mun'] - matriz_od['distancia_mun_aero_origem'] + matriz_od['distancia_mun_aero_destino']) <= limite_diferenca\n",
    "        ]['demanda_aerea_previsto'].sum()\n",
    "        percentual = (demanda_filtrada / demanda_total) * 100 if demanda_total > 0 else 0\n",
    "        return percentual\n",
    "\n",
    "    # Intervalos de limite de diferença\n",
    "    limites_diferenca = range(INICIO, FIM + 1, PASSO)\n",
    "\n",
    "    # Calculando percentuais para cada limite de diferença\n",
    "    percentuais_demanda = [calcular_percentual_demanda(matriz_od, limite) for limite in limites_diferenca]\n",
    "\n",
    "    # Plotando o gráfico\n",
    "    plt.figure(figsize=(10, 6))\n",
    "    plt.plot(limites_diferenca, percentuais_demanda, marker='o', linestyle='-')\n",
    "    plt.title('Percentual Acumulado por Diferença de Distância entre Origem-Destino e o Deslocamento até os Aeroportos')\n",
    "    plt.xlabel('Diferença de Distância (km)')\n",
    "    plt.ylabel('Percentual de Demanda (%)')\n",
    "    plt.grid()\n",
    "\n",
    "    # Exibir o gráfico\n",
    "    plt.show()\n",
    "\n",
    "# Chamada da função\n",
    "gerar_grafico_percentual_demanda_diferenca(matriz_od_piar_revisado)"
   ]
  },
  {
   "cell_type": "code",
   "execution_count": 153,
   "metadata": {},
   "outputs": [
    {
     "data": {
      "image/png": "[encoded data removed]",
      "text/plain": [
       "<Figure size 1000x600 with 1 Axes>"
      ]
     },
     "metadata": {},
     "output_type": "display_data"
    }
   ],
   "source": [
    "# Definição dos valores globais\n",
    "INICIO = 0\n",
    "FIM = 800\n",
    "PASSO = 10\n",
    "\n",
    "def gerar_grafico_percentual_demanda_deslocamento(matriz_od):\n",
    "    # Definição da função para calcular o percentual\n",
    "    def calcular_percentual_demanda(matriz_od, limite_diferenca):\n",
    "        demanda_total = matriz_od['demanda_aerea_previsto'].sum()\n",
    "        demanda_filtrada = matriz_od[\n",
    "            (matriz_od['distancia_mun_aero_origem'] + matriz_od['distancia_mun_aero_destino']) <= limite_diferenca\n",
    "        ]['demanda_aerea_previsto'].sum()\n",
    "        percentual = (demanda_filtrada / demanda_total) * 100 if demanda_total > 0 else 0\n",
    "        return percentual\n",
    "\n",
    "    # Intervalos de limite de diferença\n",
    "    limites_diferenca = range(INICIO, FIM + 1, PASSO)\n",
    "\n",
    "    # Calculando percentuais para cada limite de diferença\n",
    "    percentuais_demanda = [calcular_percentual_demanda(matriz_od, limite) for limite in limites_diferenca]\n",
    "\n",
    "    # Plotando o gráfico\n",
    "    plt.figure(figsize=(10, 6))\n",
    "    plt.plot(limites_diferenca, percentuais_demanda, marker='o', linestyle='-')\n",
    "    plt.title('Percentual Acumulado pelo Deslocamento até os Aeroportos')\n",
    "    plt.xlabel('Deslocamento Total (km)')\n",
    "    plt.ylabel('Percentual de Demanda (%)')\n",
    "    plt.grid()\n",
    "\n",
    "    # Exibir o gráfico\n",
    "    plt.show()\n",
    "\n",
    "# Chamada da função\n",
    "gerar_grafico_percentual_demanda_deslocamento(matriz_od_piar_revisado)"
   ]
  },
  {
   "cell_type": "code",
   "execution_count": 208,
   "metadata": {},
   "outputs": [],
   "source": [
    "def filtrar_matriz_od_piar(matriz_od):\n",
    "    filtro = (\n",
    "        (matriz_od['distancia_mun_aero_origem'] + matriz_od['distancia_mun_aero_destino'] <= 200) &\n",
    "        (matriz_od['distancia_mun_mun'] - \n",
    "         (matriz_od['distancia_mun_aero_origem'] + matriz_od['distancia_mun_aero_destino']) >= 200)\n",
    "    )\n",
    "    return matriz_od[filtro]\n",
    "\n",
    "# Aplicando a função\n",
    "matriz_od_piar_final = filtrar_matriz_od_piar(matriz_od_piar_revisado)"
   ]
  },
  {
   "cell_type": "code",
   "execution_count": 209,
   "metadata": {},
   "outputs": [
    {
     "name": "stderr",
     "output_type": "stream",
     "text": [
      "C:\\Users\\ecpro_ygnml4q\\AppData\\Local\\Temp\\ipykernel_13048\\487705786.py:2: SettingWithCopyWarning: \n",
      "A value is trying to be set on a copy of a slice from a DataFrame.\n",
      "Try using .loc[row_indexer,col_indexer] = value instead\n",
      "\n",
      "See the caveats in the documentation: https://pandas.pydata.org/pandas-docs/stable/user_guide/indexing.html#returning-a-view-versus-a-copy\n",
      "  matriz_od.loc[:, 'demanda_aerea_efetivo'] = (\n"
     ]
    }
   ],
   "source": [
    "def calcular_demanda_aerea_efetivo(matriz_od):\n",
    "    matriz_od.loc[:, 'demanda_aerea_efetivo'] = (\n",
    "        ((matriz_od['absorcao_origem'] / 100) + (matriz_od['absorcao_destino'] / 100)) / 2\n",
    "    ) * matriz_od['demanda_aerea_previsto']\n",
    "    return matriz_od\n",
    "\n",
    "# Aplicando a função\n",
    "matriz_od_piar_final = calcular_demanda_aerea_efetivo(matriz_od_piar_final)"
   ]
  },
  {
   "cell_type": "code",
   "execution_count": 210,
   "metadata": {},
   "outputs": [],
   "source": [
    "def criar_matriz_od_piar_resumo(matriz_od):\n",
    "    # Selecionar as colunas relevantes\n",
    "    colunas_selecionadas = ['rota', 'cenario', 'aero_origem', 'aero_destino', \n",
    "                             'demanda_aerea_previsto', 'demanda_aerea_efetivo']\n",
    "    matriz_resumo = matriz_od[colunas_selecionadas]\n",
    "\n",
    "    # Agrupar por rota, cenário, aeroporto de origem e destino, somando as demandas\n",
    "    matriz_resumo = matriz_resumo.groupby(['rota', 'cenario', 'aero_origem', 'aero_destino'], as_index=False).sum()\n",
    "\n",
    "    return matriz_resumo\n",
    "\n",
    "# Aplicando a função\n",
    "matriz_od_piar_resumo = criar_matriz_od_piar_resumo(matriz_od_piar_final)"
   ]
  },
  {
   "cell_type": "code",
   "execution_count": null,
   "metadata": {},
   "outputs": [],
   "source": [
    "def criar_matriz_od_piar_resumo_rota(matriz_od):\n",
    "    # Selecionar as colunas relevantes\n",
    "    colunas_selecionadas = ['rota', 'cenario', 'demanda_aerea_previsto', 'demanda_aerea_efetivo']\n",
    "    matriz_resumo = matriz_od[colunas_selecionadas]\n",
    "\n",
    "    # Agrupar por rota e cenário, somando as demandas\n",
    "    matriz_resumo = matriz_resumo.groupby(['rota', 'cenario'], as_index=False).sum()\n",
    "\n",
    "    return matriz_resumo\n",
    "\n",
    "# Aplicando a função\n",
    "matriz_od_piar_resumo_rota = criar_matriz_od_piar_resumo_rota(matriz_od_piar_final)"
   ]
  },
  {
   "cell_type": "code",
   "execution_count": 212,
   "metadata": {},
   "outputs": [
    {
     "data": {
      "text/html": [
       "<div>\n",
       "<style scoped>\n",
       "    .dataframe tbody tr th:only-of-type {\n",
       "        vertical-align: middle;\n",
       "    }\n",
       "\n",
       "    .dataframe tbody tr th {\n",
       "        vertical-align: top;\n",
       "    }\n",
       "\n",
       "    .dataframe thead th {\n",
       "        text-align: right;\n",
       "    }\n",
       "</style>\n",
       "<table border=\"1\" class=\"dataframe\">\n",
       "  <thead>\n",
       "    <tr style=\"text-align: right;\">\n",
       "      <th></th>\n",
       "      <th>rota</th>\n",
       "      <th>cenario</th>\n",
       "      <th>demanda_aerea_previsto</th>\n",
       "      <th>demanda_aerea_efetivo</th>\n",
       "    </tr>\n",
       "  </thead>\n",
       "  <tbody>\n",
       "    <tr>\n",
       "      <th>0</th>\n",
       "      <td>A</td>\n",
       "      <td>1</td>\n",
       "      <td>446484.606959</td>\n",
       "      <td>277752.428238</td>\n",
       "    </tr>\n",
       "    <tr>\n",
       "      <th>1</th>\n",
       "      <td>A</td>\n",
       "      <td>2</td>\n",
       "      <td>446010.782416</td>\n",
       "      <td>277802.121034</td>\n",
       "    </tr>\n",
       "    <tr>\n",
       "      <th>2</th>\n",
       "      <td>B</td>\n",
       "      <td>1</td>\n",
       "      <td>100987.521434</td>\n",
       "      <td>70556.121070</td>\n",
       "    </tr>\n",
       "    <tr>\n",
       "      <th>3</th>\n",
       "      <td>B</td>\n",
       "      <td>2</td>\n",
       "      <td>106473.506865</td>\n",
       "      <td>74224.820864</td>\n",
       "    </tr>\n",
       "  </tbody>\n",
       "</table>\n",
       "</div>"
      ],
      "text/plain": [
       "  rota cenario  demanda_aerea_previsto  demanda_aerea_efetivo\n",
       "0    A       1           446484.606959          277752.428238\n",
       "1    A       2           446010.782416          277802.121034\n",
       "2    B       1           100987.521434           70556.121070\n",
       "3    B       2           106473.506865           74224.820864"
      ]
     },
     "execution_count": 212,
     "metadata": {},
     "output_type": "execute_result"
    }
   ],
   "source": [
    "matriz_od_piar_resumo_rota.head()"
   ]
  },
  {
   "cell_type": "code",
   "execution_count": 213,
   "metadata": {},
   "outputs": [],
   "source": [
    "matriz_od_piar_final.to_excel('data/excel/xlsx/matriz_od_piar.xlsx', index = False)"
   ]
  },
  {
   "cell_type": "markdown",
   "metadata": {},
   "source": []
  }
 ],
 "metadata": {
  "kernelspec": {
   "display_name": "base",
   "language": "python",
   "name": "python3"
  },
  "language_info": {
   "codemirror_mode": {
    "name": "ipython",
    "version": 3
   },
   "file_extension": ".py",
   "mimetype": "text/x-python",
   "name": "python",
   "nbconvert_exporter": "python",
   "pygments_lexer": "ipython3",
   "version": "3.11.7"
  }
 },
 "nbformat": 4,
 "nbformat_minor": 2
}
