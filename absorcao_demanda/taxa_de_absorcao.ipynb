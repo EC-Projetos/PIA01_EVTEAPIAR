{
 "cells": [
  {
   "cell_type": "markdown",
   "metadata": {},
   "source": [
    "# Estima a captura por categoria da zona de influência"
   ]
  },
  {
   "cell_type": "code",
   "execution_count": 1,
   "metadata": {},
   "outputs": [],
   "source": [
    "import pandas as pd"
   ]
  },
  {
   "cell_type": "code",
   "execution_count": 2,
   "metadata": {},
   "outputs": [],
   "source": [
    "matriz_od_horus = pd.read_csv('data/csv/matriz_od_horus.csv', delimiter = ',',low_memory=False)"
   ]
  },
  {
   "cell_type": "code",
   "execution_count": 3,
   "metadata": {},
   "outputs": [],
   "source": [
    "cat_influencia = pd.read_excel('data/excel/xlsx/cat_influencia_geral.xlsx', engine='openpyxl')"
   ]
  },
  {
   "cell_type": "code",
   "execution_count": 4,
   "metadata": {},
   "outputs": [],
   "source": [
    "municipios_horus = pd.read_excel('data/excel/xlsx/Lista de municipios e UTPs.xlsx', engine='openpyxl')"
   ]
  },
  {
   "cell_type": "code",
   "execution_count": 5,
   "metadata": {},
   "outputs": [
    {
     "data": {
      "text/plain": [
       "Index(['idMunicipio', 'codigo', 'nome', 'uf', 'idUtp', 'utp'], dtype='object')"
      ]
     },
     "execution_count": 5,
     "metadata": {},
     "output_type": "execute_result"
    }
   ],
   "source": [
    "municipios_horus.columns"
   ]
  },
  {
   "cell_type": "code",
   "execution_count": 6,
   "metadata": {},
   "outputs": [],
   "source": [
    "def simplificar_matriz_od(df, municipios_horus):\n",
    "    # Deleta a coluna 'tag' se existir\n",
    "    if 'tag' in df.columns:\n",
    "        df = df.drop(columns=['tag'])\n",
    "    \n",
    "    # Filtra para manter apenas 'modotransporte' igual a 1\n",
    "    df = df[df['modotransporte'] == 1]\n",
    "    \n",
    "    # Mantém as colunas relevantes\n",
    "    df = df[['idmunicipioorigem', 'municipioorigem', 'aerodromoembarque', \n",
    "             'aerodromodesembarque', 'idmunicipiodestino', 'municipiodestino', 'quantidadeviagem', 'mes']]\n",
    "    \n",
    "    # Adiciona a coluna 'cod_mun_origem' baseado na correspondência entre 'idmunicipioorigem' e 'idMunicipio'\n",
    "    df = df.merge(municipios_horus[['idMunicipio', 'codigo']], left_on='idmunicipioorigem', right_on='idMunicipio', \n",
    "                  how='left').drop(columns=['idMunicipio'])\n",
    "    df.rename(columns={'codigo': 'cod_mun_origem'}, inplace=True)\n",
    "    \n",
    "    # Adiciona a coluna 'cod_mun_destino' baseado na correspondência entre 'idmunicipiodestino' e 'idMunicipio'\n",
    "    df = df.merge(municipios_horus[['idMunicipio', 'codigo']], left_on='idmunicipiodestino', right_on='idMunicipio', \n",
    "                  how='left').drop(columns=['idMunicipio'])\n",
    "    df.rename(columns={'codigo': 'cod_mun_destino'}, inplace=True)\n",
    "    \n",
    "    # Deleta as colunas 'idmunicipioorigem', 'municipioorigem', 'idmunicipiodestino' e 'municipiodestino'\n",
    "    df = df.drop(columns=['idmunicipioorigem', 'municipioorigem', 'idmunicipiodestino', 'municipiodestino'])\n",
    "    \n",
    "    # Agrupa por 'mes' somando os valores de 'quantidadeviagem'\n",
    "    df_simplificada = df.groupby(['cod_mun_origem', 'aerodromoembarque', 'aerodromodesembarque', \n",
    "                                  'cod_mun_destino'], as_index=False)['quantidadeviagem'].sum()\n",
    "    \n",
    "    return df_simplificada\n",
    "\n",
    "matriz_od_horus_simplificada = simplificar_matriz_od(matriz_od_horus, municipios_horus)"
   ]
  },
  {
   "cell_type": "code",
   "execution_count": 22,
   "metadata": {},
   "outputs": [],
   "source": [
    "def criar_captura_geral(matriz_od_horus_simplificada, cat_influencia):\n",
    "    # Criação de captura_origem\n",
    "    captura_origem = matriz_od_horus_simplificada[['cod_mun_origem', 'aerodromoembarque', 'quantidadeviagem']]\n",
    "    captura_origem = captura_origem.rename(columns={\n",
    "        'cod_mun_origem': 'cod_mun', \n",
    "        'aerodromoembarque': 'aerodromo', \n",
    "        'quantidadeviagem': 'quantidadeviagem'\n",
    "    })\n",
    "    \n",
    "    # Criação de captura_destino\n",
    "    captura_destino = matriz_od_horus_simplificada[['cod_mun_destino', 'aerodromodesembarque', 'quantidadeviagem']]\n",
    "    captura_destino = captura_destino.rename(columns={\n",
    "        'cod_mun_destino': 'cod_mun', \n",
    "        'aerodromodesembarque': 'aerodromo', \n",
    "        'quantidadeviagem': 'quantidadeviagem'\n",
    "    })\n",
    "    \n",
    "    # Concatenando os dois DataFrames\n",
    "    captura_geral = pd.concat([captura_origem, captura_destino])\n",
    "    \n",
    "    # Agregando por cod_mun e aerodromo, somando a quantidade de viagens\n",
    "    captura_geral = captura_geral.groupby(['cod_mun', 'aerodromo'], as_index=False)['quantidadeviagem'].sum()\n",
    "    \n",
    "    # Adicionando a coluna 'categoria' a captura_geral com base na correspondência em cat_influencia\n",
    "    captura_geral['categoria'] = captura_geral.apply(\n",
    "        lambda row: _obter_categoria(row['cod_mun'], row['aerodromo'], cat_influencia), axis=1\n",
    "    )\n",
    "\n",
    "    # Calculando a absorcao_aerodromo\n",
    "    # Soma total de quantidadeviagem por cod_mun\n",
    "    total_por_cod_mun = captura_geral.groupby('cod_mun')['quantidadeviagem'].transform('sum')\n",
    "    \n",
    "    # Calculando o percentual\n",
    "    captura_geral['absorcao_aerodromo'] = (captura_geral['quantidadeviagem'] / total_por_cod_mun) * 100\n",
    "\n",
    "    # Adicionando a coluna mun_aero com o número de repetições de cod_mun\n",
    "    captura_geral['mun_aero'] = captura_geral.groupby('cod_mun')['cod_mun'].transform('count')\n",
    "    \n",
    "    return captura_geral\n",
    "\n",
    "def _obter_categoria(cod_mun, aerodromo, cat_influencia):\n",
    "    # Convertendo o código do aeródromo para os 4 primeiros dígitos\n",
    "    prefixo_aerodromo = str(aerodromo)\n",
    "    \n",
    "    # Procurando a linha correspondente no DataFrame cat_influencia\n",
    "    linha_cat = cat_influencia[cat_influencia['CD_MUN'] == cod_mun]\n",
    "    \n",
    "    if not linha_cat.empty:\n",
    "        # Verificando se o prefixo do aeródromo corresponde a alguma coluna\n",
    "        for coluna in linha_cat.columns[3:]:  # As colunas a partir da 4ª\n",
    "            if coluna[:4] == prefixo_aerodromo:  # Comparando os 4 primeiros dígitos\n",
    "                # Retorna o valor da célula correspondente à linha e coluna\n",
    "                return linha_cat[coluna].values[0]\n",
    "    \n",
    "    # Se não encontrar, retorna um valor padrão (ex: None)\n",
    "    return None\n",
    "\n",
    "# Exemplo de chamada da função\n",
    "captura_geral = criar_captura_geral(matriz_od_horus_simplificada, cat_influencia)"
   ]
  },
  {
   "cell_type": "code",
   "execution_count": 23,
   "metadata": {},
   "outputs": [
    {
     "name": "stdout",
     "output_type": "stream",
     "text": [
      "Os aeródromos sem correspondência representam 1.90% do total de viagens.\n"
     ]
    }
   ],
   "source": [
    "def calcular_percentual_sem_correspondencia(captura_geral, categoria_col='categoria', aerodromo_col='aerodromo', quantidadeviagem_col='quantidadeviagem'):\n",
    "    # Identificar aeródromos sem correspondência\n",
    "    valores_unicos = captura_geral.loc[captura_geral[categoria_col].isna(), aerodromo_col].unique()\n",
    "    \n",
    "    # Agrupar e somar quantidade de viagens por aeródromo\n",
    "    nova_base = captura_geral[[aerodromo_col, quantidadeviagem_col]].groupby(aerodromo_col, as_index=False).sum()\n",
    "    total_geral = nova_base[quantidadeviagem_col].sum()\n",
    "    \n",
    "    # Filtrar para aeródromos sem correspondência\n",
    "    nova_base_filtrada = nova_base[nova_base[aerodromo_col].isin(valores_unicos)]\n",
    "    total_filtrado = nova_base_filtrada[quantidadeviagem_col].sum()\n",
    "    \n",
    "    # Calcular o percentual\n",
    "    percentual = (total_filtrado / total_geral) * 100\n",
    "    return percentual\n",
    "\n",
    "percentual = calcular_percentual_sem_correspondencia(captura_geral)\n",
    "print(f\"Os aeródromos sem correspondência representam {percentual:.2f}% do total de viagens.\")"
   ]
  },
  {
   "cell_type": "code",
   "execution_count": 47,
   "metadata": {},
   "outputs": [],
   "source": [
    "def criar_cat_absorcao(captura_geral):    \n",
    "    # Filtrando valores onde categoria não é NaN\n",
    "    captura_filtrada = captura_geral[captura_geral['categoria'].notna()]\n",
    "    \n",
    "    # Aplicando o filtro adicional\n",
    "    categorias_excluidas = ['G', 'H', 'I', 'J']\n",
    "    captura_filtrada = captura_filtrada[\n",
    "        ~((captura_filtrada['mun_aero'] == 1) & (captura_filtrada['categoria'].isin(categorias_excluidas)))\n",
    "    ]\n",
    "    \n",
    "    # Agrupando por categoria e calculando a média de absorcao_aerodromo\n",
    "    cat_absorcao = captura_filtrada.groupby('categoria', as_index=False).agg(\n",
    "        absorcao=('absorcao_aerodromo', 'mean')\n",
    "    )\n",
    "    \n",
    "    return cat_absorcao\n",
    "\n",
    "cat_absorcao = criar_cat_absorcao(captura_geral)"
   ]
  },
  {
   "cell_type": "code",
   "execution_count": 49,
   "metadata": {},
   "outputs": [],
   "source": [
    "cat_absorcao.to_excel('data/excel/xlsx/cat_absorcao_nacional.xlsx', index = False)"
   ]
  },
  {
   "cell_type": "code",
   "execution_count": null,
   "metadata": {},
   "outputs": [],
   "source": []
  }
 ],
 "metadata": {
  "kernelspec": {
   "display_name": "base",
   "language": "python",
   "name": "python3"
  },
  "language_info": {
   "codemirror_mode": {
    "name": "ipython",
    "version": 3
   },
   "file_extension": ".py",
   "mimetype": "text/x-python",
   "name": "python",
   "nbconvert_exporter": "python",
   "pygments_lexer": "ipython3",
   "version": "3.11.7"
  }
 },
 "nbformat": 4,
 "nbformat_minor": 2
}
