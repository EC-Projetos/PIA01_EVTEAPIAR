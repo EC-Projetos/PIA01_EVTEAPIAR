{
 "cells": [
  {
   "cell_type": "markdown",
   "metadata": {},
   "source": [
    "# Estimativa de custo e tempo de transporte áereo por distância"
   ]
  },
  {
   "cell_type": "code",
   "execution_count": 1,
   "metadata": {},
   "outputs": [],
   "source": [
    "from selenium import webdriver\n",
    "from selenium.webdriver.edge.service import Service as EdgeService\n",
    "from selenium.webdriver.edge.options import Options\n",
    "from selenium.webdriver.common.by import By\n",
    "from selenium.webdriver.support.ui import WebDriverWait\n",
    "from selenium.webdriver.support import expected_conditions as EC\n",
    "from selenium.webdriver.common.keys import Keys\n",
    "import time\n",
    "import pandas as pd"
   ]
  },
  {
   "cell_type": "code",
   "execution_count": 2,
   "metadata": {},
   "outputs": [],
   "source": [
    "id_aeroporto = pd.read_excel('data/excel/xlsx/id_aeroporto.xlsx', engine='openpyxl')"
   ]
  },
  {
   "cell_type": "code",
   "execution_count": 9,
   "metadata": {},
   "outputs": [
    {
     "data": {
      "text/html": [
       "<div>\n",
       "<style scoped>\n",
       "    .dataframe tbody tr th:only-of-type {\n",
       "        vertical-align: middle;\n",
       "    }\n",
       "\n",
       "    .dataframe tbody tr th {\n",
       "        vertical-align: top;\n",
       "    }\n",
       "\n",
       "    .dataframe thead th {\n",
       "        text-align: right;\n",
       "    }\n",
       "</style>\n",
       "<table border=\"1\" class=\"dataframe\">\n",
       "  <thead>\n",
       "    <tr style=\"text-align: right;\">\n",
       "      <th></th>\n",
       "      <th>SIGLA</th>\n",
       "      <th>ID_AEROPORTO</th>\n",
       "      <th>UF</th>\n",
       "      <th>LATITUDE</th>\n",
       "      <th>LONGITUDE</th>\n",
       "      <th>CLASSIF</th>\n",
       "      <th>PASSAGEIROS_ULTIMO_ANO</th>\n",
       "      <th>ORIGENS</th>\n",
       "      <th>DESTINOS</th>\n",
       "    </tr>\n",
       "  </thead>\n",
       "  <tbody>\n",
       "    <tr>\n",
       "      <th>0</th>\n",
       "      <td>SBCF</td>\n",
       "      <td>SBCF - CONFINS</td>\n",
       "      <td>MG</td>\n",
       "      <td>-19.624444</td>\n",
       "      <td>-43.971944</td>\n",
       "      <td>Classe IV</td>\n",
       "      <td>11765147</td>\n",
       "      <td>['KMIA - MIAMI, FLORIDA', 'SBAX - ARAXÁ', 'SBB...</td>\n",
       "      <td>['SBGL - RIO DE JANEIRO', 'SBAX - ARAXÁ', 'SBB...</td>\n",
       "    </tr>\n",
       "  </tbody>\n",
       "</table>\n",
       "</div>"
      ],
      "text/plain": [
       "  SIGLA    ID_AEROPORTO  UF   LATITUDE  LONGITUDE    CLASSIF  \\\n",
       "0  SBCF  SBCF - CONFINS  MG -19.624444 -43.971944  Classe IV   \n",
       "\n",
       "   PASSAGEIROS_ULTIMO_ANO                                            ORIGENS  \\\n",
       "0                11765147  ['KMIA - MIAMI, FLORIDA', 'SBAX - ARAXÁ', 'SBB...   \n",
       "\n",
       "                                            DESTINOS  \n",
       "0  ['SBGL - RIO DE JANEIRO', 'SBAX - ARAXÁ', 'SBB...  "
      ]
     },
     "execution_count": 9,
     "metadata": {},
     "output_type": "execute_result"
    }
   ],
   "source": [
    "id_aeroporto.head(1)"
   ]
  },
  {
   "cell_type": "code",
   "execution_count": null,
   "metadata": {},
   "outputs": [],
   "source": []
  }
 ],
 "metadata": {
  "kernelspec": {
   "display_name": "base",
   "language": "python",
   "name": "python3"
  },
  "language_info": {
   "codemirror_mode": {
    "name": "ipython",
    "version": 3
   },
   "file_extension": ".py",
   "mimetype": "text/x-python",
   "name": "python",
   "nbconvert_exporter": "python",
   "pygments_lexer": "ipython3",
   "version": "3.11.7"
  }
 },
 "nbformat": 4,
 "nbformat_minor": 2
}
