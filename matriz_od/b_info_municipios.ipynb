{
 "cells": [
  {
   "cell_type": "markdown",
   "metadata": {},
   "source": [
    "# Adiciona o Produto Interno Bruto e População dos Municípios à Matriz Origem-Destino"
   ]
  },
  {
   "cell_type": "code",
   "execution_count": 1,
   "metadata": {},
   "outputs": [],
   "source": [
    "import pandas as pd"
   ]
  },
  {
   "cell_type": "code",
   "execution_count": 2,
   "metadata": {},
   "outputs": [],
   "source": [
    "pib_municipal = pd.read_csv(\n",
    "    'data/csv/pib_municipal.csv', \n",
    "    delimiter=';', \n",
    "    skiprows=3,   # Pular as primeiras 3 linhas\n",
    "    nrows=5570    # Ler apenas 5570 linhas, de 4 até 5574\n",
    ")"
   ]
  },
  {
   "cell_type": "code",
   "execution_count": 3,
   "metadata": {},
   "outputs": [],
   "source": [
    "pop_municipal = pd.read_csv(\n",
    "    'data/csv/pop_municipal.csv', \n",
    "    delimiter=';', \n",
    "    skiprows=3,   # Pular as primeiras 3 linhas\n",
    "    nrows=5570    # Ler apenas 5570 linhas, de 4 até 5574\n",
    ")"
   ]
  },
  {
   "cell_type": "code",
   "execution_count": 4,
   "metadata": {},
   "outputs": [],
   "source": [
    "matriz_od_distancia = pd.read_csv('data/csv/matriz_od_distancia.csv', delimiter = ',')"
   ]
  },
  {
   "cell_type": "code",
   "execution_count": 5,
   "metadata": {},
   "outputs": [
    {
     "data": {
      "text/plain": [
       "Index(['mun_origem', 'mun_destino', 'distancia'], dtype='object')"
      ]
     },
     "execution_count": 5,
     "metadata": {},
     "output_type": "execute_result"
    }
   ],
   "source": [
    "matriz_od_distancia.columns"
   ]
  },
  {
   "cell_type": "code",
   "execution_count": 6,
   "metadata": {},
   "outputs": [
    {
     "data": {
      "text/plain": [
       "Index(['Cód.', 'Município', '2001', '2002', '2003', '2004', '2005', '2006',\n",
       "       '2008', '2009', '2011', '2012', '2013', '2014', '2015', '2016', '2017',\n",
       "       '2018', '2019', '2020', '2021'],\n",
       "      dtype='object')"
      ]
     },
     "execution_count": 6,
     "metadata": {},
     "output_type": "execute_result"
    }
   ],
   "source": [
    "pop_municipal.columns"
   ]
  },
  {
   "cell_type": "code",
   "execution_count": 7,
   "metadata": {},
   "outputs": [
    {
     "data": {
      "text/plain": [
       "Index(['Nível', 'Cód.', 'Município', '2002', '2003', '2004', '2005', '2006',\n",
       "       '2007', '2008', '2009', '2010', '2011', '2012', '2013', '2014', '2015',\n",
       "       '2016', '2017', '2018', '2019', '2020', '2021'],\n",
       "      dtype='object')"
      ]
     },
     "execution_count": 7,
     "metadata": {},
     "output_type": "execute_result"
    }
   ],
   "source": [
    "pib_municipal.columns"
   ]
  },
  {
   "cell_type": "code",
   "execution_count": 8,
   "metadata": {},
   "outputs": [],
   "source": [
    "def verificar_codigos(matriz_od_distancia, pib_municipal):\n",
    "    mun_origem_unique = matriz_od_distancia['mun_origem'].unique()\n",
    "    codigos_pib_municipal = pib_municipal['Cód.'].unique()\n",
    "\n",
    "    # Encontrando os valores que não estão presentes\n",
    "    codigos_nao_presentes = [mun for mun in mun_origem_unique if mun not in codigos_pib_municipal]\n",
    "    \n",
    "    return codigos_nao_presentes"
   ]
  },
  {
   "cell_type": "code",
   "execution_count": 9,
   "metadata": {},
   "outputs": [
    {
     "name": "stdout",
     "output_type": "stream",
     "text": [
      "Os seguintes códigos de 'mun_origem' não estão presentes em 'Cód.': [4300001, 4300002]\n"
     ]
    }
   ],
   "source": [
    "# Executa a função e armazena os resultados\n",
    "codigos_nao_presentes = verificar_codigos(matriz_od_distancia, pib_municipal)\n",
    "\n",
    "# Exibe os códigos que não estão presentes\n",
    "if codigos_nao_presentes:\n",
    "    print(f\"Os seguintes códigos de 'mun_origem' não estão presentes em 'Cód.': {codigos_nao_presentes}\")\n",
    "else:\n",
    "    print(\"Todos os códigos de 'mun_origem' estão presentes em 'Cód.'\")"
   ]
  },
  {
   "cell_type": "code",
   "execution_count": 10,
   "metadata": {},
   "outputs": [],
   "source": [
    "def criar_base_matriz_od_info_mun(matriz_od_distancia, pib_municipal, pop_municipal):\n",
    "    # Fazer o merge da base matriz_od_distancia com os valores de PIB de origem\n",
    "    matriz_od_info_mun = matriz_od_distancia.merge(\n",
    "        pib_municipal[['Cód.', '2021']], \n",
    "        how='left', \n",
    "        left_on='mun_origem', \n",
    "        right_on='Cód.'\n",
    "    ).rename(columns={'2021': 'pib_origem'})\n",
    "    \n",
    "    # Remover a coluna 'Cód.' resultante do merge\n",
    "    matriz_od_info_mun.drop(columns=['Cód.'], inplace=True)\n",
    "\n",
    "    # Fazer o merge novamente para adicionar os valores de PIB do destino\n",
    "    matriz_od_info_mun = matriz_od_info_mun.merge(\n",
    "        pib_municipal[['Cód.', '2021']], \n",
    "        how='left', \n",
    "        left_on='mun_destino', \n",
    "        right_on='Cód.'\n",
    "    ).rename(columns={'2021': 'pib_destino'})\n",
    "    \n",
    "    # Remover a coluna 'Cód.' resultante do segundo merge\n",
    "    matriz_od_info_mun.drop(columns=['Cód.'], inplace=True)\n",
    "\n",
    "    # Fazer o merge da base matriz_od_info_mun com os valores de população de origem\n",
    "    matriz_od_info_mun = matriz_od_info_mun.merge(\n",
    "        pop_municipal[['Cód.', '2021']], \n",
    "        how='left', \n",
    "        left_on='mun_origem', \n",
    "        right_on='Cód.'\n",
    "    ).rename(columns={'2021': 'pop_origem'})\n",
    "    \n",
    "    # Remover a coluna 'Cód.' resultante do merge\n",
    "    matriz_od_info_mun.drop(columns=['Cód.'], inplace=True)\n",
    "\n",
    "    # Fazer o merge novamente para adicionar os valores de população do destino\n",
    "    matriz_od_info_mun = matriz_od_info_mun.merge(\n",
    "        pop_municipal[['Cód.', '2021']], \n",
    "        how='left', \n",
    "        left_on='mun_destino', \n",
    "        right_on='Cód.'\n",
    "    ).rename(columns={'2021': 'pop_destino'})\n",
    "    \n",
    "    # Remover a coluna 'Cód.' resultante do segundo merge\n",
    "    matriz_od_info_mun.drop(columns=['Cód.'], inplace=True)\n",
    "\n",
    "    # Remover linhas onde não há correspondência para PIB ou população de origem ou destino\n",
    "    matriz_od_info_mun.dropna(subset=['pib_origem', 'pib_destino', 'pop_origem', 'pop_destino'], inplace=True)\n",
    "\n",
    "    # Reindexar o DataFrame para ajustar o índice\n",
    "    matriz_od_info_mun.reset_index(drop=True, inplace=True)\n",
    "\n",
    "    return matriz_od_info_mun"
   ]
  },
  {
   "cell_type": "code",
   "execution_count": 11,
   "metadata": {},
   "outputs": [],
   "source": [
    "matriz_od_info_mun = criar_base_matriz_od_info_mun(matriz_od_distancia, pib_municipal, pop_municipal)"
   ]
  },
  {
   "cell_type": "code",
   "execution_count": 12,
   "metadata": {},
   "outputs": [],
   "source": [
    "# Salvando a matriz_od_info_mun como um arquivo CSV\n",
    "output_path_csv = 'data/csv/matriz_od_info_mun.csv'\n",
    "matriz_od_info_mun.to_csv(output_path_csv, index=False)"
   ]
  },
  {
   "cell_type": "code",
   "execution_count": null,
   "metadata": {},
   "outputs": [],
   "source": []
  }
 ],
 "metadata": {
  "kernelspec": {
   "display_name": "base",
   "language": "python",
   "name": "python3"
  },
  "language_info": {
   "codemirror_mode": {
    "name": "ipython",
    "version": 3
   },
   "file_extension": ".py",
   "mimetype": "text/x-python",
   "name": "python",
   "nbconvert_exporter": "python",
   "pygments_lexer": "ipython3",
   "version": "3.11.7"
  }
 },
 "nbformat": 4,
 "nbformat_minor": 2
}
