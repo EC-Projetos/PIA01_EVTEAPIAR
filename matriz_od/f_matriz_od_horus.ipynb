{
 "cells": [
  {
   "cell_type": "markdown",
   "metadata": {},
   "source": [
    "# Baixa a Matriz OD Aérea e Não Aérea e cria uma nova Matriz Completa"
   ]
  },
  {
   "cell_type": "code",
   "execution_count": 1,
   "metadata": {},
   "outputs": [],
   "source": [
    "import pandas as pd"
   ]
  },
  {
   "cell_type": "code",
   "execution_count": 2,
   "metadata": {},
   "outputs": [],
   "source": [
    "matriz_od_aerea_horus = pd.read_excel('data/excel/xlsb/Matriz_OD_AEREA.xlsb', engine='pyxlsb')"
   ]
  },
  {
   "cell_type": "code",
   "execution_count": 3,
   "metadata": {},
   "outputs": [],
   "source": [
    "matriz_od_nao_aerea_horus = pd.read_excel('data/excel/xlsb/Matriz_OD_NÃO_AÉREA.xlsb', engine='pyxlsb')"
   ]
  },
  {
   "cell_type": "code",
   "execution_count": 4,
   "metadata": {},
   "outputs": [
    {
     "data": {
      "text/plain": [
       "Index(['tag', 'mes', 'modotransporte', 'idmunicipioorigem', 'municipioorigem',\n",
       "       'idUTPorigemunicipio', 'UTPorigemunicipio', 'UFUTPorigemunicipio',\n",
       "       'idaerodromoembarque', 'aerodromoembarque', 'idaerodromodesembarque',\n",
       "       'aerodromodesembarque', 'UFUTPdestinounicipio', 'idUTPdestinounicipio',\n",
       "       'UTPdestinounicipio', 'idmunicipiodestino', 'municipiodestino',\n",
       "       'quantidadeviagem', 'Unnamed: 18', 'Unnamed: 19'],\n",
       "      dtype='object')"
      ]
     },
     "execution_count": 4,
     "metadata": {},
     "output_type": "execute_result"
    }
   ],
   "source": [
    "matriz_od_aerea_horus.columns"
   ]
  },
  {
   "cell_type": "code",
   "execution_count": 5,
   "metadata": {},
   "outputs": [
    {
     "data": {
      "text/plain": [
       "Index(['tag', 'mes', 'modotransporte', 'idmunicipioorigem', 'municipioorigem',\n",
       "       'idUTPorigemunicipio', 'UTPorigemunicipio', 'UFUTPorigemunicipio',\n",
       "       'idaerodromoembarque', 'aerodromoembarque', 'idaerodromodesembarque',\n",
       "       'aerodromodesembarque', 'UFUTPdestinounicipio', 'idUTPdestinounicipio',\n",
       "       'UTPdestinounicipio', 'idmunicipiodestino', 'municipiodestino',\n",
       "       'quantidadeviagem'],\n",
       "      dtype='object')"
      ]
     },
     "execution_count": 5,
     "metadata": {},
     "output_type": "execute_result"
    }
   ],
   "source": [
    "matriz_od_nao_aerea_horus.columns"
   ]
  },
  {
   "cell_type": "code",
   "execution_count": 6,
   "metadata": {},
   "outputs": [],
   "source": [
    "def concatenate_matrices(df_aerea, df_nao_aerea):\n",
    "    # Remover colunas Unnamed do DataFrame `df_aerea`\n",
    "    df_aerea = df_aerea.loc[:, ~df_aerea.columns.str.contains('^Unnamed')]\n",
    "    \n",
    "    # Concatenar os DataFrames\n",
    "    matriz_od_horus = pd.concat([df_aerea, df_nao_aerea], ignore_index=True)\n",
    "    \n",
    "    return matriz_od_horus"
   ]
  },
  {
   "cell_type": "code",
   "execution_count": 7,
   "metadata": {},
   "outputs": [],
   "source": [
    "matriz_od_horus = concatenate_matrices(matriz_od_aerea_horus, matriz_od_nao_aerea_horus)"
   ]
  },
  {
   "cell_type": "code",
   "execution_count": 8,
   "metadata": {},
   "outputs": [
    {
     "data": {
      "text/plain": [
       "Index(['tag', 'mes', 'modotransporte', 'idmunicipioorigem', 'municipioorigem',\n",
       "       'idUTPorigemunicipio', 'UTPorigemunicipio', 'UFUTPorigemunicipio',\n",
       "       'idaerodromoembarque', 'aerodromoembarque', 'idaerodromodesembarque',\n",
       "       'aerodromodesembarque', 'UFUTPdestinounicipio', 'idUTPdestinounicipio',\n",
       "       'UTPdestinounicipio', 'idmunicipiodestino', 'municipiodestino',\n",
       "       'quantidadeviagem'],\n",
       "      dtype='object')"
      ]
     },
     "execution_count": 8,
     "metadata": {},
     "output_type": "execute_result"
    }
   ],
   "source": [
    "matriz_od_horus.columns"
   ]
  },
  {
   "cell_type": "code",
   "execution_count": 9,
   "metadata": {},
   "outputs": [],
   "source": [
    "matriz_od_horus.to_csv('data/csv/matriz_od_horus.csv', index=False)"
   ]
  },
  {
   "cell_type": "code",
   "execution_count": null,
   "metadata": {},
   "outputs": [],
   "source": []
  }
 ],
 "metadata": {
  "kernelspec": {
   "display_name": "base",
   "language": "python",
   "name": "python3"
  },
  "language_info": {
   "codemirror_mode": {
    "name": "ipython",
    "version": 3
   },
   "file_extension": ".py",
   "mimetype": "text/x-python",
   "name": "python",
   "nbconvert_exporter": "python",
   "pygments_lexer": "ipython3",
   "version": "3.11.7"
  }
 },
 "nbformat": 4,
 "nbformat_minor": 2
}
