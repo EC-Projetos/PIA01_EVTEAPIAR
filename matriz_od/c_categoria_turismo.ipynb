{
 "cells": [
  {
   "cell_type": "markdown",
   "metadata": {},
   "source": [
    "# Adiciona número de turistas à Matriz de Origem e Destino"
   ]
  },
  {
   "cell_type": "code",
   "execution_count": 1,
   "metadata": {},
   "outputs": [],
   "source": [
    "import pandas as pd\n",
    "import geopandas as gpd"
   ]
  },
  {
   "cell_type": "code",
   "execution_count": 2,
   "metadata": {},
   "outputs": [
    {
     "name": "stderr",
     "output_type": "stream",
     "text": [
      "c:\\ProgramData\\anaconda3\\Lib\\site-packages\\openpyxl\\styles\\stylesheet.py:226: UserWarning: Workbook contains no default style, apply openpyxl's default\n",
      "  warn(\"Workbook contains no default style, apply openpyxl's default\")\n"
     ]
    }
   ],
   "source": [
    "# Utilizando o engine 'openpyxl' para ler o arquivo Excel\n",
    "categoria_turismo = pd.read_excel(\n",
    "    'data/excel/xlsx/categoria_turismo.xlsx', \n",
    "    skiprows=4,  # Pular as quatro primeiras linhas\n",
    "    header=None,  # Não usar o cabeçalho da quinta linha original\n",
    "    engine='openpyxl'  # Usar o openpyxl para leitura\n",
    ")\n",
    "\n",
    "# Definir o cabeçalho manualmente com os itens fornecidos\n",
    "categoria_turismo.columns = [\n",
    "    'uf', 'municipio', 'regiao_turistica', 'visitantes_internacionais', \n",
    "    'visitantes_domesticos', 'hospedagem', 'empregos', 'impostos_federais', 'categoria'\n",
    "]"
   ]
  },
  {
   "cell_type": "code",
   "execution_count": 3,
   "metadata": {},
   "outputs": [
    {
     "data": {
      "text/html": [
       "<div>\n",
       "<style scoped>\n",
       "    .dataframe tbody tr th:only-of-type {\n",
       "        vertical-align: middle;\n",
       "    }\n",
       "\n",
       "    .dataframe tbody tr th {\n",
       "        vertical-align: top;\n",
       "    }\n",
       "\n",
       "    .dataframe thead th {\n",
       "        text-align: right;\n",
       "    }\n",
       "</style>\n",
       "<table border=\"1\" class=\"dataframe\">\n",
       "  <thead>\n",
       "    <tr style=\"text-align: right;\">\n",
       "      <th></th>\n",
       "      <th>uf</th>\n",
       "      <th>municipio</th>\n",
       "      <th>regiao_turistica</th>\n",
       "      <th>visitantes_internacionais</th>\n",
       "      <th>visitantes_domesticos</th>\n",
       "      <th>hospedagem</th>\n",
       "      <th>empregos</th>\n",
       "      <th>impostos_federais</th>\n",
       "      <th>categoria</th>\n",
       "    </tr>\n",
       "  </thead>\n",
       "  <tbody>\n",
       "    <tr>\n",
       "      <th>0</th>\n",
       "      <td>AC</td>\n",
       "      <td>Assis Brasil</td>\n",
       "      <td>Caminhos do Pacífico</td>\n",
       "      <td>0</td>\n",
       "      <td>27381</td>\n",
       "      <td>1</td>\n",
       "      <td>1</td>\n",
       "      <td>0</td>\n",
       "      <td>D</td>\n",
       "    </tr>\n",
       "    <tr>\n",
       "      <th>1</th>\n",
       "      <td>AC</td>\n",
       "      <td>Cruzeiro do Sul</td>\n",
       "      <td>Caminhos das Aldeias e da Biodiversidade</td>\n",
       "      <td>481</td>\n",
       "      <td>24475</td>\n",
       "      <td>11</td>\n",
       "      <td>116</td>\n",
       "      <td>241310</td>\n",
       "      <td>C</td>\n",
       "    </tr>\n",
       "    <tr>\n",
       "      <th>2</th>\n",
       "      <td>AC</td>\n",
       "      <td>Epitaciolândia</td>\n",
       "      <td>Caminhos do Pacífico</td>\n",
       "      <td>0</td>\n",
       "      <td>4785</td>\n",
       "      <td>6</td>\n",
       "      <td>31</td>\n",
       "      <td>0</td>\n",
       "      <td>D</td>\n",
       "    </tr>\n",
       "    <tr>\n",
       "      <th>3</th>\n",
       "      <td>AC</td>\n",
       "      <td>Rio Branco</td>\n",
       "      <td>Caminhos da Revolução</td>\n",
       "      <td>4602</td>\n",
       "      <td>464108</td>\n",
       "      <td>30</td>\n",
       "      <td>376</td>\n",
       "      <td>2845034</td>\n",
       "      <td>A</td>\n",
       "    </tr>\n",
       "    <tr>\n",
       "      <th>4</th>\n",
       "      <td>AC</td>\n",
       "      <td>Rodrigues Alves</td>\n",
       "      <td>Caminhos das Aldeias e da Biodiversidade</td>\n",
       "      <td>0</td>\n",
       "      <td>0</td>\n",
       "      <td>0</td>\n",
       "      <td>0</td>\n",
       "      <td>0</td>\n",
       "      <td>E</td>\n",
       "    </tr>\n",
       "  </tbody>\n",
       "</table>\n",
       "</div>"
      ],
      "text/plain": [
       "   uf        municipio                          regiao_turistica  \\\n",
       "0  AC     Assis Brasil                      Caminhos do Pacífico   \n",
       "1  AC  Cruzeiro do Sul  Caminhos das Aldeias e da Biodiversidade   \n",
       "2  AC   Epitaciolândia                      Caminhos do Pacífico   \n",
       "3  AC       Rio Branco                     Caminhos da Revolução   \n",
       "4  AC  Rodrigues Alves  Caminhos das Aldeias e da Biodiversidade   \n",
       "\n",
       "   visitantes_internacionais  visitantes_domesticos  hospedagem  empregos  \\\n",
       "0                          0                  27381           1         1   \n",
       "1                        481                  24475          11       116   \n",
       "2                          0                   4785           6        31   \n",
       "3                       4602                 464108          30       376   \n",
       "4                          0                      0           0         0   \n",
       "\n",
       "   impostos_federais categoria  \n",
       "0                  0         D  \n",
       "1             241310         C  \n",
       "2                  0         D  \n",
       "3            2845034         A  \n",
       "4                  0         E  "
      ]
     },
     "execution_count": 3,
     "metadata": {},
     "output_type": "execute_result"
    }
   ],
   "source": [
    "categoria_turismo.head()"
   ]
  },
  {
   "cell_type": "code",
   "execution_count": 4,
   "metadata": {},
   "outputs": [],
   "source": [
    "municipios = gpd.read_file(\"data/shapefile/centroide/municipios_centroide.shp\")"
   ]
  },
  {
   "cell_type": "code",
   "execution_count": 5,
   "metadata": {},
   "outputs": [
    {
     "data": {
      "text/html": [
       "<div>\n",
       "<style scoped>\n",
       "    .dataframe tbody tr th:only-of-type {\n",
       "        vertical-align: middle;\n",
       "    }\n",
       "\n",
       "    .dataframe tbody tr th {\n",
       "        vertical-align: top;\n",
       "    }\n",
       "\n",
       "    .dataframe thead th {\n",
       "        text-align: right;\n",
       "    }\n",
       "</style>\n",
       "<table border=\"1\" class=\"dataframe\">\n",
       "  <thead>\n",
       "    <tr style=\"text-align: right;\">\n",
       "      <th></th>\n",
       "      <th>CD_MUN</th>\n",
       "      <th>NM_MUN</th>\n",
       "      <th>SIGLA_UF</th>\n",
       "      <th>AREA_KM2</th>\n",
       "      <th>geometry</th>\n",
       "    </tr>\n",
       "  </thead>\n",
       "  <tbody>\n",
       "    <tr>\n",
       "      <th>0</th>\n",
       "      <td>1100015</td>\n",
       "      <td>Alta Floresta D'Oeste</td>\n",
       "      <td>RO</td>\n",
       "      <td>7067.127</td>\n",
       "      <td>POINT (-62.27475 -12.47091)</td>\n",
       "    </tr>\n",
       "    <tr>\n",
       "      <th>1</th>\n",
       "      <td>1100023</td>\n",
       "      <td>Ariquemes</td>\n",
       "      <td>RO</td>\n",
       "      <td>4426.571</td>\n",
       "      <td>POINT (-62.95714 -9.95196)</td>\n",
       "    </tr>\n",
       "    <tr>\n",
       "      <th>2</th>\n",
       "      <td>1100031</td>\n",
       "      <td>Cabixi</td>\n",
       "      <td>RO</td>\n",
       "      <td>1314.352</td>\n",
       "      <td>POINT (-60.63988 -13.47493)</td>\n",
       "    </tr>\n",
       "    <tr>\n",
       "      <th>3</th>\n",
       "      <td>1100049</td>\n",
       "      <td>Cacoal</td>\n",
       "      <td>RO</td>\n",
       "      <td>3793.000</td>\n",
       "      <td>POINT (-61.3248 -11.30138)</td>\n",
       "    </tr>\n",
       "    <tr>\n",
       "      <th>4</th>\n",
       "      <td>1100056</td>\n",
       "      <td>Cerejeiras</td>\n",
       "      <td>RO</td>\n",
       "      <td>2783.300</td>\n",
       "      <td>POINT (-61.26104 -13.20356)</td>\n",
       "    </tr>\n",
       "    <tr>\n",
       "      <th>...</th>\n",
       "      <td>...</td>\n",
       "      <td>...</td>\n",
       "      <td>...</td>\n",
       "      <td>...</td>\n",
       "      <td>...</td>\n",
       "    </tr>\n",
       "    <tr>\n",
       "      <th>5567</th>\n",
       "      <td>5222005</td>\n",
       "      <td>Vianópolis</td>\n",
       "      <td>GO</td>\n",
       "      <td>954.115</td>\n",
       "      <td>POINT (-48.44085 -16.81296)</td>\n",
       "    </tr>\n",
       "    <tr>\n",
       "      <th>5568</th>\n",
       "      <td>5222054</td>\n",
       "      <td>Vicentinópolis</td>\n",
       "      <td>GO</td>\n",
       "      <td>733.794</td>\n",
       "      <td>POINT (-49.87271 -17.72376)</td>\n",
       "    </tr>\n",
       "    <tr>\n",
       "      <th>5569</th>\n",
       "      <td>5222203</td>\n",
       "      <td>Vila Boa</td>\n",
       "      <td>GO</td>\n",
       "      <td>1052.593</td>\n",
       "      <td>POINT (-47.06238 -14.9933)</td>\n",
       "    </tr>\n",
       "    <tr>\n",
       "      <th>5570</th>\n",
       "      <td>5222302</td>\n",
       "      <td>Vila Propício</td>\n",
       "      <td>GO</td>\n",
       "      <td>2181.593</td>\n",
       "      <td>POINT (-48.8136 -15.26987)</td>\n",
       "    </tr>\n",
       "    <tr>\n",
       "      <th>5571</th>\n",
       "      <td>5300108</td>\n",
       "      <td>Brasília</td>\n",
       "      <td>DF</td>\n",
       "      <td>5760.784</td>\n",
       "      <td>POINT (-47.79687 -15.78136)</td>\n",
       "    </tr>\n",
       "  </tbody>\n",
       "</table>\n",
       "<p>5572 rows × 5 columns</p>\n",
       "</div>"
      ],
      "text/plain": [
       "       CD_MUN                 NM_MUN SIGLA_UF  AREA_KM2  \\\n",
       "0     1100015  Alta Floresta D'Oeste       RO  7067.127   \n",
       "1     1100023              Ariquemes       RO  4426.571   \n",
       "2     1100031                 Cabixi       RO  1314.352   \n",
       "3     1100049                 Cacoal       RO  3793.000   \n",
       "4     1100056             Cerejeiras       RO  2783.300   \n",
       "...       ...                    ...      ...       ...   \n",
       "5567  5222005             Vianópolis       GO   954.115   \n",
       "5568  5222054         Vicentinópolis       GO   733.794   \n",
       "5569  5222203               Vila Boa       GO  1052.593   \n",
       "5570  5222302          Vila Propício       GO  2181.593   \n",
       "5571  5300108               Brasília       DF  5760.784   \n",
       "\n",
       "                         geometry  \n",
       "0     POINT (-62.27475 -12.47091)  \n",
       "1      POINT (-62.95714 -9.95196)  \n",
       "2     POINT (-60.63988 -13.47493)  \n",
       "3      POINT (-61.3248 -11.30138)  \n",
       "4     POINT (-61.26104 -13.20356)  \n",
       "...                           ...  \n",
       "5567  POINT (-48.44085 -16.81296)  \n",
       "5568  POINT (-49.87271 -17.72376)  \n",
       "5569   POINT (-47.06238 -14.9933)  \n",
       "5570   POINT (-48.8136 -15.26987)  \n",
       "5571  POINT (-47.79687 -15.78136)  \n",
       "\n",
       "[5572 rows x 5 columns]"
      ]
     },
     "execution_count": 5,
     "metadata": {},
     "output_type": "execute_result"
    }
   ],
   "source": [
    "municipios"
   ]
  },
  {
   "cell_type": "code",
   "execution_count": 6,
   "metadata": {},
   "outputs": [],
   "source": [
    "def remover_duplicatas(categoria_turismo, municipios):\n",
    "    # Fazer a junção entre categoria_turismo e municipios com base em 'municipio' e 'uf', além de 'NM_MUN' e 'SIGLA_UF'\n",
    "    categoria_cod_merged = categoria_turismo.merge(\n",
    "        municipios, \n",
    "        how='left', \n",
    "        left_on=['municipio', 'uf'], \n",
    "        right_on=['NM_MUN', 'SIGLA_UF']\n",
    "    )\n",
    "    \n",
    "    # Contar duplicatas com base nas colunas 'municipio', 'uf', 'NM_MUN', e 'SIGLA_UF'\n",
    "    duplicatas = categoria_cod_merged.groupby(['municipio', 'uf', 'NM_MUN', 'SIGLA_UF']).size().reset_index(name='counts')\n",
    "\n",
    "    # Filtrar os casos em que há mais de uma correspondência\n",
    "    duplicatas = duplicatas[duplicatas['counts'] > 1]\n",
    "\n",
    "    # Identificar os índices das duplicatas\n",
    "    duplicatas_indices = categoria_cod_merged[\n",
    "        categoria_cod_merged.set_index(['municipio', 'uf']).index.isin(duplicatas.set_index(['municipio', 'uf']).index)\n",
    "    ].index\n",
    "\n",
    "    # Remover as duplicatas da base categoria_turismo original\n",
    "    categoria_turismo_sem_duplicatas = categoria_turismo.drop(duplicatas_indices)\n",
    "\n",
    "    return categoria_turismo_sem_duplicatas"
   ]
  },
  {
   "cell_type": "code",
   "execution_count": 7,
   "metadata": {},
   "outputs": [],
   "source": [
    "cat_turismo_filtrado = remover_duplicatas(categoria_turismo, municipios)"
   ]
  },
  {
   "cell_type": "code",
   "execution_count": 8,
   "metadata": {},
   "outputs": [
    {
     "data": {
      "text/plain": [
       "Index(['uf', 'municipio', 'regiao_turistica', 'visitantes_internacionais',\n",
       "       'visitantes_domesticos', 'hospedagem', 'empregos', 'impostos_federais',\n",
       "       'categoria'],\n",
       "      dtype='object')"
      ]
     },
     "execution_count": 8,
     "metadata": {},
     "output_type": "execute_result"
    }
   ],
   "source": [
    "cat_turismo_filtrado.columns"
   ]
  },
  {
   "cell_type": "code",
   "execution_count": 9,
   "metadata": {},
   "outputs": [],
   "source": [
    "# Fazer o merge para adicionar a coluna 'cod_mun' à base cat_turismo_filtrado\n",
    "cat_turismo_filtrado = cat_turismo_filtrado.merge(\n",
    "    municipios[['NM_MUN', 'CD_MUN', 'SIGLA_UF']], \n",
    "    how='left', \n",
    "    left_on=['municipio', 'uf'], \n",
    "    right_on=['NM_MUN', 'SIGLA_UF']\n",
    ")\n",
    "\n",
    "# Remover as colunas de junção 'NM_MUN' e 'SIGLA_UF'\n",
    "cat_turismo_filtrado.drop(columns=['NM_MUN', 'SIGLA_UF'], inplace=True)\n",
    "\n",
    "# Renomear a coluna 'CD_MUN' para 'cod_mun'\n",
    "cat_turismo_filtrado.rename(columns={'CD_MUN': 'cod_mun'}, inplace=True)"
   ]
  },
  {
   "cell_type": "code",
   "execution_count": 10,
   "metadata": {},
   "outputs": [
    {
     "data": {
      "text/plain": [
       "Index(['uf', 'municipio', 'regiao_turistica', 'visitantes_internacionais',\n",
       "       'visitantes_domesticos', 'hospedagem', 'empregos', 'impostos_federais',\n",
       "       'categoria', 'cod_mun'],\n",
       "      dtype='object')"
      ]
     },
     "execution_count": 10,
     "metadata": {},
     "output_type": "execute_result"
    }
   ],
   "source": [
    "cat_turismo_filtrado.columns"
   ]
  },
  {
   "cell_type": "code",
   "execution_count": 11,
   "metadata": {},
   "outputs": [],
   "source": [
    "matriz_od_info_mun= pd.read_csv('data/csv/matriz_od_info_mun.csv', delimiter = ',')"
   ]
  },
  {
   "cell_type": "code",
   "execution_count": 12,
   "metadata": {},
   "outputs": [
    {
     "data": {
      "text/plain": [
       "Index(['mun_origem', 'mun_destino', 'distancia', 'pib_origem', 'pib_destino',\n",
       "       'pop_origem', 'pop_destino'],\n",
       "      dtype='object')"
      ]
     },
     "execution_count": 12,
     "metadata": {},
     "output_type": "execute_result"
    }
   ],
   "source": [
    "matriz_od_info_mun.columns"
   ]
  },
  {
   "cell_type": "code",
   "execution_count": 13,
   "metadata": {},
   "outputs": [],
   "source": [
    "def criar_matriz_od_turismo(matriz_od_info_mun, cat_turismo_filtrado):\n",
    "    \"\"\"\n",
    "    Função para criar a base 'matriz_od_turismo' adicionando as colunas 'turistas_origem' e 'turistas_destino'\n",
    "    à base 'matriz_od_info_mun'. A soma de 'visitantes_internacionais' e 'visitantes_domesticos' de 'cat_turismo_filtrado'\n",
    "    será associada a 'mun_origem' e 'mun_destino' via 'cod_mun' da própria base 'cat_turismo_filtrado'.\n",
    "    \n",
    "    Parâmetros:\n",
    "    matriz_od_info_mun (DataFrame): Base original com as informações de origem e destino dos municípios.\n",
    "    cat_turismo_filtrado (DataFrame): Base de dados com informações turísticas por município, incluindo 'cod_mun'.\n",
    "    \n",
    "    Retorna:\n",
    "    DataFrame: 'matriz_od_turismo' com as novas colunas 'turistas_origem' e 'turistas_destino'.\n",
    "    \"\"\"\n",
    "    \n",
    "    # Converter as colunas 'mun_origem' e 'mun_destino' para strings para compatibilidade com 'cod_mun'\n",
    "    matriz_od_info_mun['mun_origem'] = matriz_od_info_mun['mun_origem'].astype(str)\n",
    "    matriz_od_info_mun['mun_destino'] = matriz_od_info_mun['mun_destino'].astype(str)\n",
    "    cat_turismo_filtrado['cod_mun'] = cat_turismo_filtrado['cod_mun'].astype(str)\n",
    "    \n",
    "    # Criar a coluna 'turistas' em cat_turismo_filtrado somando 'visitantes_internacionais' e 'visitantes_domesticos'\n",
    "    cat_turismo_filtrado['turistas'] = cat_turismo_filtrado['visitantes_internacionais'] + cat_turismo_filtrado['visitantes_domesticos']\n",
    "    \n",
    "    # Fazer a junção para adicionar 'turistas_origem' baseado em 'mun_origem'\n",
    "    matriz_od_turismo = matriz_od_info_mun.merge(\n",
    "        cat_turismo_filtrado[['cod_mun', 'turistas']], \n",
    "        how='left', \n",
    "        left_on='mun_origem', \n",
    "        right_on='cod_mun'\n",
    "    ).rename(columns={'turistas': 'turistas_origem'})\n",
    "    \n",
    "    # Fazer a junção para adicionar 'turistas_destino' baseado em 'mun_destino'\n",
    "    matriz_od_turismo = matriz_od_turismo.merge(\n",
    "        cat_turismo_filtrado[['cod_mun', 'turistas']], \n",
    "        how='left', \n",
    "        left_on='mun_destino', \n",
    "        right_on='cod_mun'\n",
    "    ).rename(columns={'turistas': 'turistas_destino'})\n",
    "    \n",
    "    # Remover as colunas auxiliares 'cod_mun_x' e 'cod_mun_y' apenas se existirem\n",
    "    colunas_a_remover = ['cod_mun_x', 'cod_mun_y']\n",
    "    matriz_od_turismo.drop(columns=[col for col in colunas_a_remover if col in matriz_od_turismo.columns], inplace=True)\n",
    "    \n",
    "    return matriz_od_turismo"
   ]
  },
  {
   "cell_type": "code",
   "execution_count": 14,
   "metadata": {},
   "outputs": [],
   "source": [
    "matriz_od_turismo = criar_matriz_od_turismo(matriz_od_info_mun, cat_turismo_filtrado)"
   ]
  },
  {
   "cell_type": "code",
   "execution_count": 15,
   "metadata": {},
   "outputs": [],
   "source": [
    "# Salvando a matriz_od_turismo como um arquivo CSV\n",
    "output_path_csv = 'data/csv/matriz_od_turismo.csv'\n",
    "matriz_od_turismo.to_csv(output_path_csv, index=False)"
   ]
  },
  {
   "cell_type": "code",
   "execution_count": null,
   "metadata": {},
   "outputs": [],
   "source": []
  }
 ],
 "metadata": {
  "kernelspec": {
   "display_name": "base",
   "language": "python",
   "name": "python3"
  },
  "language_info": {
   "codemirror_mode": {
    "name": "ipython",
    "version": 3
   },
   "file_extension": ".py",
   "mimetype": "text/x-python",
   "name": "python",
   "nbconvert_exporter": "python",
   "pygments_lexer": "ipython3",
   "version": "3.11.7"
  }
 },
 "nbformat": 4,
 "nbformat_minor": 2
}
