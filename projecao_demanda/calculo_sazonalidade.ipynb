{
 "cells": [
  {
   "cell_type": "markdown",
   "metadata": {},
   "source": [
    "# Estimativa de sazonalidade"
   ]
  },
  {
   "cell_type": "code",
   "execution_count": 1,
   "metadata": {},
   "outputs": [],
   "source": [
    "import pandas as pd\n",
    "import matplotlib.pyplot as plt\n",
    "from statsmodels.tsa.seasonal import seasonal_decompose"
   ]
  },
  {
   "cell_type": "markdown",
   "metadata": {},
   "source": [
    "# Testando com microdados_anac"
   ]
  },
  {
   "cell_type": "code",
   "execution_count": 2,
   "metadata": {},
   "outputs": [],
   "source": [
    "# Ler a base da anac\n",
    "bd_anac = pd.read_csv('data/csv/Dados_Estatisticos.csv', sep = ';', skiprows = 1)"
   ]
  },
  {
   "cell_type": "code",
   "execution_count": 3,
   "metadata": {},
   "outputs": [],
   "source": [
    "# Correção para AEROPORTO_DE_ORIGEM_NOME = JACAREACANGA e AEROPORTO_DE_ORIGEM_SIGLA = SBSI\n",
    "bd_anac.loc[(bd_anac['AEROPORTO_DE_ORIGEM_NOME'] == 'JACAREACANGA') & \n",
    "            (bd_anac['AEROPORTO_DE_ORIGEM_SIGLA'] == 'SBSI'), 'AEROPORTO_DE_ORIGEM_SIGLA'] = 'SWSI'\n",
    "\n",
    "# Correção para AEROPORTO_DE_DESTINO_NOME = JACAREACANGA e AEROPORTO_DE_DESTINO_SIGLA = SBSI\n",
    "bd_anac.loc[(bd_anac['AEROPORTO_DE_DESTINO_NOME'] == 'JACAREACANGA') & \n",
    "            (bd_anac['AEROPORTO_DE_DESTINO_SIGLA'] == 'SBSI'), 'AEROPORTO_DE_DESTINO_SIGLA'] = 'SWSI'\n",
    "\n",
    "# Correção para AEROPORTO_DE_ORIGEM_NOME = SINOP e AEROPORTO_DE_ORIGEM_SIGLA = SWSI\n",
    "bd_anac.loc[(bd_anac['AEROPORTO_DE_ORIGEM_NOME'] == 'SINOP') & \n",
    "            (bd_anac['AEROPORTO_DE_ORIGEM_SIGLA'] == 'SWSI'), 'AEROPORTO_DE_ORIGEM_SIGLA'] = 'SBSI'\n",
    "\n",
    "# Correção para AEROPORTO_DE_DESTINO_NOME = SINOP e AEROPORTO_DE_DESTINO_SIGLA = SWSI\n",
    "bd_anac.loc[(bd_anac['AEROPORTO_DE_DESTINO_NOME'] == 'SINOP') & \n",
    "            (bd_anac['AEROPORTO_DE_DESTINO_SIGLA'] == 'SWSI'), 'AEROPORTO_DE_DESTINO_SIGLA'] = 'SBSI'\n",
    "\n",
    "# Correção para AEROPORTO_DE_ORIGEM_SIGLA = SSZW\n",
    "bd_anac.loc[bd_anac['AEROPORTO_DE_ORIGEM_SIGLA'] == 'SSZW', 'AEROPORTO_DE_ORIGEM_SIGLA'] = 'SBPG'\n",
    "\n",
    "# Correção para AEROPORTO_DE_DESTINO_SIGLA = SSZW\n",
    "bd_anac.loc[bd_anac['AEROPORTO_DE_DESTINO_SIGLA'] == 'SSZW', 'AEROPORTO_DE_DESTINO_SIGLA'] = 'SBPG'\n",
    "\n",
    "# Correção para AEROPORTO_DE_ORIGEM_SIGLA = SWRD\n",
    "bd_anac.loc[bd_anac['AEROPORTO_DE_ORIGEM_SIGLA'] == 'SWRD', 'AEROPORTO_DE_ORIGEM_SIGLA'] = 'SBRD'\n",
    "\n",
    "# Correção para AEROPORTO_DE_DESTINO_SIGLA = SWRD\n",
    "bd_anac.loc[bd_anac['AEROPORTO_DE_DESTINO_SIGLA'] == 'SWRD', 'AEROPORTO_DE_DESTINO_SIGLA'] = 'SBRD'"
   ]
  },
  {
   "cell_type": "code",
   "execution_count": 4,
   "metadata": {},
   "outputs": [],
   "source": [
    "def adicionar_coluna_id_aeroporto_origem(bd_anac):\n",
    "    bd_anac['ID_AEROPORTO_ORIGEM'] = bd_anac['AEROPORTO_DE_ORIGEM_SIGLA'] + ' - ' + bd_anac['AEROPORTO_DE_ORIGEM_NOME']\n",
    "    return bd_anac\n",
    "\n",
    "def adicionar_coluna_id_aeroporto_destino(bd_anac):\n",
    "    bd_anac['ID_AEROPORTO_DESTINO'] = bd_anac['AEROPORTO_DE_DESTINO_SIGLA'] + ' - ' + bd_anac['AEROPORTO_DE_DESTINO_NOME']\n",
    "    return bd_anac\n",
    "\n",
    "def adicionar_coluna_data(bd_anac):\n",
    "    # Renomear as colunas temporariamente para \"year\" e \"month\"\n",
    "    bd_anac = bd_anac.rename(columns={'ANO': 'year', 'MES': 'month'})\n",
    "    \n",
    "    # Adicionar uma coluna \"day\" com todos os valores iguais a 1\n",
    "    bd_anac['day'] = 1\n",
    "    \n",
    "    # Criar a coluna \"DATA\" utilizando as colunas \"year\", \"month\", \"day\"\n",
    "    bd_anac['DATA'] = pd.to_datetime(bd_anac[['year', 'month', 'day']])\n",
    "    \n",
    "    # Restaurar os nomes originais das colunas\n",
    "    bd_anac = bd_anac.rename(columns={'year': 'ANO', 'month': 'MES'})\n",
    "    \n",
    "    # Remover a coluna \"day\"\n",
    "    bd_anac = bd_anac.drop(columns='day')\n",
    "    \n",
    "    return bd_anac\n",
    "\n",
    "bd_anac = adicionar_coluna_id_aeroporto_origem(bd_anac)\n",
    "bd_anac = adicionar_coluna_id_aeroporto_destino(bd_anac)\n",
    "bd_anac = adicionar_coluna_data(bd_anac)"
   ]
  },
  {
   "cell_type": "code",
   "execution_count": 5,
   "metadata": {},
   "outputs": [],
   "source": [
    "def filtrar_bd_anac(bd_anac):\n",
    "    # Aplicar filtros\n",
    "    bd_anac_filtrada = bd_anac[\n",
    "        (bd_anac['NATUREZA'] == 'DOMÉSTICA') & \n",
    "        (bd_anac['GRUPO_DE_VOO'] == 'REGULAR') &\n",
    "        (bd_anac['PASSAGEIROS_PAGOS'] > 0)\n",
    "    ]\n",
    "    \n",
    "    # Selecionar colunas desejadas\n",
    "    colunas_selecionadas = [\n",
    "        'DATA', 'EMPRESA_SIGLA', 'EMPRESA_NOME', \n",
    "        'ID_AEROPORTO_ORIGEM', 'AEROPORTO_DE_ORIGEM_SIGLA', \n",
    "        'AEROPORTO_DE_ORIGEM_UF', 'ID_AEROPORTO_DESTINO', \n",
    "        'AEROPORTO_DE_DESTINO_SIGLA', 'AEROPORTO_DE_DESTINO_UF', \n",
    "        'PASSAGEIROS_PAGOS', 'CARGA_PAGA_KG'\n",
    "    ]\n",
    "    \n",
    "    # Retornar o DataFrame filtrado com as colunas selecionadas\n",
    "    return bd_anac_filtrada[colunas_selecionadas]\n",
    "\n",
    "# Exemplo de uso\n",
    "bd_anac_filtrada = filtrar_bd_anac(bd_anac)"
   ]
  },
  {
   "cell_type": "code",
   "execution_count": 6,
   "metadata": {},
   "outputs": [],
   "source": [
    "aeroportos_piar = ['SBTE - TERESINA', 'SBBR - BRASÍLIA', 'SBPB - PARNAÍBA', 'SWKQ - SÃO RAIMUNDO NONATO', 'SNBR - BARREIRAS', 'SBFZ - FORTALEZA', 'SBSL - SÃO LUÍS']"
   ]
  },
  {
   "cell_type": "code",
   "execution_count": 10,
   "metadata": {},
   "outputs": [],
   "source": [
    "def criar_sazonalidade_piar(bd_anac, aeroportos_piar):\n",
    "    # Filtrar registros onde ID_AEROPORTO_ORIGEM ou ID_AEROPORTO_DESTINO está na lista\n",
    "    origem = bd_anac[bd_anac['ID_AEROPORTO_ORIGEM'].isin(aeroportos_piar)].copy()\n",
    "    destino = bd_anac[bd_anac['ID_AEROPORTO_DESTINO'].isin(aeroportos_piar)].copy()\n",
    "\n",
    "    # Adicionar coluna 'ds_aeroporto' para origem e destino\n",
    "    origem['ds_aeroporto'] = origem['ID_AEROPORTO_ORIGEM']\n",
    "    destino['ds_aeroporto'] = destino['ID_AEROPORTO_DESTINO']\n",
    "\n",
    "    # Selecionar e renomear colunas\n",
    "    colunas_selecionadas = ['ds_aeroporto', 'DATA', 'PASSAGEIROS_PAGOS']\n",
    "    origem = origem[colunas_selecionadas]\n",
    "    destino = destino[colunas_selecionadas]\n",
    "\n",
    "    # Concatenar origem e destino\n",
    "    sazonalidade_piar = pd.concat([origem, destino])\n",
    "\n",
    "    # Renomear colunas\n",
    "    sazonalidade_piar = sazonalidade_piar.rename(columns={\n",
    "        'DATA': 'dt_registro',\n",
    "        'PASSAGEIROS_PAGOS': 'nr_passag_pagos'\n",
    "    })\n",
    "\n",
    "    # Agrupar por 'ds_aeroporto' e 'dt_registro', somando 'nr_passag_pagos'\n",
    "    sazonalidade_piar = sazonalidade_piar.groupby(\n",
    "        ['ds_aeroporto', 'dt_registro'], as_index=False\n",
    "    ).agg({'nr_passag_pagos': 'sum'})\n",
    "\n",
    "    return sazonalidade_piar\n",
    "\n",
    "# Chamar a função para criar o DataFrame\n",
    "sazonalidade_piar = criar_sazonalidade_piar(bd_anac, aeroportos_piar)"
   ]
  },
  {
   "cell_type": "code",
   "execution_count": 13,
   "metadata": {},
   "outputs": [],
   "source": [
    "def decomposicao_multiplicativa(aeroporto, sazonalidade_piar):\n",
    "    # Filtrar os dados para o aeroporto específico\n",
    "    df_aeroporto = sazonalidade_piar[sazonalidade_piar['ds_aeroporto'] == aeroporto].copy()\n",
    "    \n",
    "    # Garantir que 'dt_registro' esteja no formato datetime\n",
    "    df_aeroporto['dt_registro'] = pd.to_datetime(df_aeroporto['dt_registro'])\n",
    "    \n",
    "    # Agrupar os dados por mês, somando 'nr_passag_pagos'\n",
    "    df_mensal = df_aeroporto.set_index('dt_registro').resample('M').sum()\n",
    "    \n",
    "    # Remover valores nulos e valores zero ou negativos\n",
    "    df_mensal = df_mensal[df_mensal['nr_passag_pagos'] > 0].dropna()\n",
    "    \n",
    "    # Verificar se há dados suficientes\n",
    "    if len(df_mensal) < 24:\n",
    "        print(f\"Dados insuficientes para o aeroporto {aeroporto}. É necessário pelo menos 24 observações mensais com valores positivos.\")\n",
    "        return None\n",
    "    \n",
    "    # Decomposição multiplicativa\n",
    "    decomposicao_multiplicativa = seasonal_decompose(df_mensal['nr_passag_pagos'], model='multiplicative', period=12)\n",
    "    \n",
    "    # Retornar os valores sazonais multiplicativos\n",
    "    return decomposicao_multiplicativa.seasonal"
   ]
  },
  {
   "cell_type": "code",
   "execution_count": 16,
   "metadata": {},
   "outputs": [
    {
     "name": "stdout",
     "output_type": "stream",
     "text": [
      "Analisando o aeroporto: SBTE - TERESINA\n",
      "Analisando o aeroporto: SBBR - BRASÍLIA\n",
      "Analisando o aeroporto: SBPB - PARNAÍBA\n",
      "Analisando o aeroporto: SWKQ - SÃO RAIMUNDO NONATO\n",
      "Dados insuficientes para o aeroporto SWKQ - SÃO RAIMUNDO NONATO. É necessário pelo menos 24 observações mensais com valores positivos.\n",
      "Analisando o aeroporto: SNBR - BARREIRAS\n",
      "Analisando o aeroporto: SBFZ - FORTALEZA\n",
      "Analisando o aeroporto: SBSL - SÃO LUÍS\n"
     ]
    }
   ],
   "source": [
    "# Inicializar um DataFrame vazio para armazenar os indicadores sazonais\n",
    "indicadores_sazonais_piar = pd.DataFrame()\n",
    "\n",
    "# Analisar cada aeroporto e obter os valores sazonais multiplicativos\n",
    "for aeroporto in aeroportos_piar:\n",
    "    print(f\"Analisando o aeroporto: {aeroporto}\")\n",
    "    valores_sazonais = decomposicao_multiplicativa(aeroporto, sazonalidade_piar)\n",
    "    \n",
    "    if valores_sazonais is not None:\n",
    "        # Converter os valores sazonais em DataFrame\n",
    "        df_sazonais = valores_sazonais.reset_index()\n",
    "        df_sazonais.columns = ['dt_registro', 'valor_sazonal']\n",
    "        \n",
    "        # Adicionar o mês como uma nova coluna (dois dígitos)\n",
    "        df_sazonais['mes'] = df_sazonais['dt_registro'].dt.strftime('%m')\n",
    "        \n",
    "        # Adicionar o aeroporto como uma coluna\n",
    "        df_sazonais['ds_aeroporto'] = aeroporto\n",
    "        \n",
    "        # Agrupar por aeroporto e mês, somando os valores sazonais\n",
    "        df_resumo = df_sazonais.groupby(['ds_aeroporto', 'mes'], as_index=False)['valor_sazonal'].mean()\n",
    "        \n",
    "        # Concatenar com o DataFrame principal\n",
    "        indicadores_sazonais_piar = pd.concat([indicadores_sazonais_piar, df_resumo], ignore_index=True)"
   ]
  },
  {
   "cell_type": "code",
   "execution_count": 17,
   "metadata": {},
   "outputs": [],
   "source": [
    "indicadores_sazonais_piar.to_excel('data/excel/xlsx/sazonalidade_piar.xlsx', index=False)"
   ]
  },
  {
   "cell_type": "code",
   "execution_count": null,
   "metadata": {},
   "outputs": [],
   "source": []
  }
 ],
 "metadata": {
  "kernelspec": {
   "display_name": "base",
   "language": "python",
   "name": "python3"
  },
  "language_info": {
   "codemirror_mode": {
    "name": "ipython",
    "version": 3
   },
   "file_extension": ".py",
   "mimetype": "text/x-python",
   "name": "python",
   "nbconvert_exporter": "python",
   "pygments_lexer": "ipython3",
   "version": "3.11.7"
  }
 },
 "nbformat": 4,
 "nbformat_minor": 2
}
